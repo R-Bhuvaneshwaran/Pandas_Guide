{
 "cells": [
  {
   "cell_type": "markdown",
   "id": "5d776fae",
   "metadata": {},
   "source": [
    "## 🧠 What is a Lambda Function?\n",
    "A lambda function is a small, anonymous function (function without a name) in Python. It's used when you need a quick, one-line function."
   ]
  },
  {
   "cell_type": "code",
   "execution_count": 29,
   "id": "0f212158",
   "metadata": {},
   "outputs": [
    {
     "data": {
      "text/html": [
       "<img src=\"Lambda_Vs_For.JPG\" style=\"width:400px;height:300px\">"
      ],
      "text/plain": [
       "<IPython.core.display.HTML object>"
      ]
     },
     "execution_count": 29,
     "metadata": {},
     "output_type": "execute_result"
    }
   ],
   "source": [
    "from IPython.display import HTML\n",
    "HTML('<img src=\"Lambda_Vs_For.JPG\" style=\"width:400px;height:300px\">')"
   ]
  },
  {
   "cell_type": "markdown",
   "id": "2a9ec28c",
   "metadata": {},
   "source": [
    "## ✅ Syntax:"
   ]
  },
  {
   "cell_type": "code",
   "execution_count": 2,
   "id": "1a5b5384",
   "metadata": {},
   "outputs": [
    {
     "data": {
      "text/plain": [
       "<function __main__.<lambda>(arguments)>"
      ]
     },
     "execution_count": 2,
     "metadata": {},
     "output_type": "execute_result"
    }
   ],
   "source": [
    "lambda arguments: expression\n"
   ]
  },
  {
   "cell_type": "markdown",
   "id": "69f8558c",
   "metadata": {},
   "source": [
    "## Example:"
   ]
  },
  {
   "cell_type": "code",
   "execution_count": 3,
   "id": "7f875599",
   "metadata": {},
   "outputs": [
    {
     "data": {
      "text/plain": [
       "<function __main__.<lambda>(x)>"
      ]
     },
     "execution_count": 3,
     "metadata": {},
     "output_type": "execute_result"
    }
   ],
   "source": [
    "lambda x: x + 5\n"
   ]
  },
  {
   "cell_type": "markdown",
   "id": "8e7c5c5c",
   "metadata": {},
   "source": [
    "This means: **“take x, add 5, and return it”.**\n",
    "\n",
    "You use this function inline, typically with pandas methods like .apply()."
   ]
  },
  {
   "cell_type": "markdown",
   "id": "e18cb7da",
   "metadata": {},
   "source": [
    "## 🧪 Basic Examples (No Pandas Yet)"
   ]
  },
  {
   "cell_type": "code",
   "execution_count": 4,
   "id": "0ebaf118",
   "metadata": {},
   "outputs": [
    {
     "name": "stdout",
     "output_type": "stream",
     "text": [
      "15\n",
      "16\n",
      "10\n"
     ]
    }
   ],
   "source": [
    "add_5 = lambda x: x + 5\n",
    "print(add_5(10))  # Output: 15\n",
    "\n",
    "square = lambda x: x * x\n",
    "print(square(4))  # Output: 16\n",
    "\n",
    "sum_two = lambda x, y: x + y\n",
    "print(sum_two(3, 7))  # Output: 10\n"
   ]
  },
  {
   "cell_type": "markdown",
   "id": "85b51b7b",
   "metadata": {},
   "source": [
    "## 🐼 Lambda in Pandas: Real Use Cases\n",
    "We use lambda functions with **.apply()** to perform row-wise or column-wise operations.\n",
    "\n",
    "Let’s use this DataFrame:"
   ]
  },
  {
   "cell_type": "code",
   "execution_count": 5,
   "id": "f5a488b3",
   "metadata": {},
   "outputs": [],
   "source": [
    "import pandas as pd\n",
    "\n",
    "df = pd.DataFrame({\n",
    "    'Name': ['Alice', 'Bob', 'Charlie'],\n",
    "    'Salary': [50000, 60000, 70000]\n",
    "})\n"
   ]
  },
  {
   "cell_type": "markdown",
   "id": "42766442",
   "metadata": {},
   "source": [
    "## ✅ Example 1: Add 10% Bonus to Salary"
   ]
  },
  {
   "cell_type": "code",
   "execution_count": 6,
   "id": "e89ec6c9",
   "metadata": {},
   "outputs": [],
   "source": [
    "df['NewSalary'] = df['Salary'].apply(lambda x: x * 1.10)"
   ]
  },
  {
   "cell_type": "code",
   "execution_count": 10,
   "id": "8962e3c0",
   "metadata": {},
   "outputs": [
    {
     "data": {
      "text/html": [
       "<div>\n",
       "<style scoped>\n",
       "    .dataframe tbody tr th:only-of-type {\n",
       "        vertical-align: middle;\n",
       "    }\n",
       "\n",
       "    .dataframe tbody tr th {\n",
       "        vertical-align: top;\n",
       "    }\n",
       "\n",
       "    .dataframe thead th {\n",
       "        text-align: right;\n",
       "    }\n",
       "</style>\n",
       "<table border=\"1\" class=\"dataframe\">\n",
       "  <thead>\n",
       "    <tr style=\"text-align: right;\">\n",
       "      <th></th>\n",
       "      <th>Name</th>\n",
       "      <th>Salary</th>\n",
       "      <th>NewSalary</th>\n",
       "      <th>NameLength</th>\n",
       "      <th>IsHighEarner</th>\n",
       "    </tr>\n",
       "  </thead>\n",
       "  <tbody>\n",
       "    <tr>\n",
       "      <th>0</th>\n",
       "      <td>Alice</td>\n",
       "      <td>50000</td>\n",
       "      <td>55000.0</td>\n",
       "      <td>5</td>\n",
       "      <td>No</td>\n",
       "    </tr>\n",
       "    <tr>\n",
       "      <th>1</th>\n",
       "      <td>Bob</td>\n",
       "      <td>60000</td>\n",
       "      <td>66000.0</td>\n",
       "      <td>3</td>\n",
       "      <td>Yes</td>\n",
       "    </tr>\n",
       "    <tr>\n",
       "      <th>2</th>\n",
       "      <td>Charlie</td>\n",
       "      <td>70000</td>\n",
       "      <td>77000.0</td>\n",
       "      <td>7</td>\n",
       "      <td>Yes</td>\n",
       "    </tr>\n",
       "  </tbody>\n",
       "</table>\n",
       "</div>"
      ],
      "text/plain": [
       "      Name  Salary  NewSalary  NameLength IsHighEarner\n",
       "0    Alice   50000    55000.0           5           No\n",
       "1      Bob   60000    66000.0           3          Yes\n",
       "2  Charlie   70000    77000.0           7          Yes"
      ]
     },
     "execution_count": 10,
     "metadata": {},
     "output_type": "execute_result"
    }
   ],
   "source": [
    "df"
   ]
  },
  {
   "cell_type": "markdown",
   "id": "2f1626e0",
   "metadata": {},
   "source": [
    "🔹 apply() runs the lambda for every value in the Salary column\n",
    "\n",
    "🔹 x represents each value in the column"
   ]
  },
  {
   "cell_type": "markdown",
   "id": "87176aec",
   "metadata": {},
   "source": [
    "## ✅ Example 2: Length of Names"
   ]
  },
  {
   "cell_type": "code",
   "execution_count": 7,
   "id": "25bdf82a",
   "metadata": {},
   "outputs": [],
   "source": [
    "df['NameLength'] = df['Name'].apply(lambda x: len(x))"
   ]
  },
  {
   "cell_type": "code",
   "execution_count": 11,
   "id": "c8bccfa1",
   "metadata": {},
   "outputs": [
    {
     "data": {
      "text/html": [
       "<div>\n",
       "<style scoped>\n",
       "    .dataframe tbody tr th:only-of-type {\n",
       "        vertical-align: middle;\n",
       "    }\n",
       "\n",
       "    .dataframe tbody tr th {\n",
       "        vertical-align: top;\n",
       "    }\n",
       "\n",
       "    .dataframe thead th {\n",
       "        text-align: right;\n",
       "    }\n",
       "</style>\n",
       "<table border=\"1\" class=\"dataframe\">\n",
       "  <thead>\n",
       "    <tr style=\"text-align: right;\">\n",
       "      <th></th>\n",
       "      <th>Name</th>\n",
       "      <th>Salary</th>\n",
       "      <th>NewSalary</th>\n",
       "      <th>NameLength</th>\n",
       "      <th>IsHighEarner</th>\n",
       "    </tr>\n",
       "  </thead>\n",
       "  <tbody>\n",
       "    <tr>\n",
       "      <th>0</th>\n",
       "      <td>Alice</td>\n",
       "      <td>50000</td>\n",
       "      <td>55000.0</td>\n",
       "      <td>5</td>\n",
       "      <td>No</td>\n",
       "    </tr>\n",
       "    <tr>\n",
       "      <th>1</th>\n",
       "      <td>Bob</td>\n",
       "      <td>60000</td>\n",
       "      <td>66000.0</td>\n",
       "      <td>3</td>\n",
       "      <td>Yes</td>\n",
       "    </tr>\n",
       "    <tr>\n",
       "      <th>2</th>\n",
       "      <td>Charlie</td>\n",
       "      <td>70000</td>\n",
       "      <td>77000.0</td>\n",
       "      <td>7</td>\n",
       "      <td>Yes</td>\n",
       "    </tr>\n",
       "  </tbody>\n",
       "</table>\n",
       "</div>"
      ],
      "text/plain": [
       "      Name  Salary  NewSalary  NameLength IsHighEarner\n",
       "0    Alice   50000    55000.0           5           No\n",
       "1      Bob   60000    66000.0           3          Yes\n",
       "2  Charlie   70000    77000.0           7          Yes"
      ]
     },
     "execution_count": 11,
     "metadata": {},
     "output_type": "execute_result"
    }
   ],
   "source": [
    "df"
   ]
  },
  {
   "cell_type": "markdown",
   "id": "0c6e4df3",
   "metadata": {},
   "source": [
    "## ✅ Example 3: Conditional Logic"
   ]
  },
  {
   "cell_type": "code",
   "execution_count": 9,
   "id": "0c67dfae",
   "metadata": {},
   "outputs": [],
   "source": [
    "df['IsHighEarner'] = df['Salary'].apply(lambda x: 'Yes' if x > 55000 else 'No')"
   ]
  },
  {
   "cell_type": "code",
   "execution_count": 12,
   "id": "1e813a7c",
   "metadata": {},
   "outputs": [
    {
     "data": {
      "text/html": [
       "<div>\n",
       "<style scoped>\n",
       "    .dataframe tbody tr th:only-of-type {\n",
       "        vertical-align: middle;\n",
       "    }\n",
       "\n",
       "    .dataframe tbody tr th {\n",
       "        vertical-align: top;\n",
       "    }\n",
       "\n",
       "    .dataframe thead th {\n",
       "        text-align: right;\n",
       "    }\n",
       "</style>\n",
       "<table border=\"1\" class=\"dataframe\">\n",
       "  <thead>\n",
       "    <tr style=\"text-align: right;\">\n",
       "      <th></th>\n",
       "      <th>Name</th>\n",
       "      <th>Salary</th>\n",
       "      <th>NewSalary</th>\n",
       "      <th>NameLength</th>\n",
       "      <th>IsHighEarner</th>\n",
       "    </tr>\n",
       "  </thead>\n",
       "  <tbody>\n",
       "    <tr>\n",
       "      <th>0</th>\n",
       "      <td>Alice</td>\n",
       "      <td>50000</td>\n",
       "      <td>55000.0</td>\n",
       "      <td>5</td>\n",
       "      <td>No</td>\n",
       "    </tr>\n",
       "    <tr>\n",
       "      <th>1</th>\n",
       "      <td>Bob</td>\n",
       "      <td>60000</td>\n",
       "      <td>66000.0</td>\n",
       "      <td>3</td>\n",
       "      <td>Yes</td>\n",
       "    </tr>\n",
       "    <tr>\n",
       "      <th>2</th>\n",
       "      <td>Charlie</td>\n",
       "      <td>70000</td>\n",
       "      <td>77000.0</td>\n",
       "      <td>7</td>\n",
       "      <td>Yes</td>\n",
       "    </tr>\n",
       "  </tbody>\n",
       "</table>\n",
       "</div>"
      ],
      "text/plain": [
       "      Name  Salary  NewSalary  NameLength IsHighEarner\n",
       "0    Alice   50000    55000.0           5           No\n",
       "1      Bob   60000    66000.0           3          Yes\n",
       "2  Charlie   70000    77000.0           7          Yes"
      ]
     },
     "execution_count": 12,
     "metadata": {},
     "output_type": "execute_result"
    }
   ],
   "source": [
    "df"
   ]
  },
  {
   "cell_type": "markdown",
   "id": "30abc07b",
   "metadata": {},
   "source": [
    "## ✅ Example 4: Using Lambda on Multiple Columns (with axis=1)\n",
    "To work with rows (not single columns), set axis=1:"
   ]
  },
  {
   "cell_type": "code",
   "execution_count": 17,
   "id": "bcc21655",
   "metadata": {},
   "outputs": [],
   "source": [
    "df['Bonus'] = df.apply(lambda row: row['Salary'] * 0.10 if row['Salary'] > 55000 else 0,axis=1)\n"
   ]
  },
  {
   "cell_type": "code",
   "execution_count": 18,
   "id": "ba95f2a5",
   "metadata": {},
   "outputs": [
    {
     "data": {
      "text/html": [
       "<div>\n",
       "<style scoped>\n",
       "    .dataframe tbody tr th:only-of-type {\n",
       "        vertical-align: middle;\n",
       "    }\n",
       "\n",
       "    .dataframe tbody tr th {\n",
       "        vertical-align: top;\n",
       "    }\n",
       "\n",
       "    .dataframe thead th {\n",
       "        text-align: right;\n",
       "    }\n",
       "</style>\n",
       "<table border=\"1\" class=\"dataframe\">\n",
       "  <thead>\n",
       "    <tr style=\"text-align: right;\">\n",
       "      <th></th>\n",
       "      <th>Name</th>\n",
       "      <th>Salary</th>\n",
       "      <th>NewSalary</th>\n",
       "      <th>NameLength</th>\n",
       "      <th>IsHighEarner</th>\n",
       "      <th>Bonus</th>\n",
       "    </tr>\n",
       "  </thead>\n",
       "  <tbody>\n",
       "    <tr>\n",
       "      <th>0</th>\n",
       "      <td>Alice</td>\n",
       "      <td>50000</td>\n",
       "      <td>55000.0</td>\n",
       "      <td>5</td>\n",
       "      <td>No</td>\n",
       "      <td>0.0</td>\n",
       "    </tr>\n",
       "    <tr>\n",
       "      <th>1</th>\n",
       "      <td>Bob</td>\n",
       "      <td>60000</td>\n",
       "      <td>66000.0</td>\n",
       "      <td>3</td>\n",
       "      <td>Yes</td>\n",
       "      <td>6000.0</td>\n",
       "    </tr>\n",
       "    <tr>\n",
       "      <th>2</th>\n",
       "      <td>Charlie</td>\n",
       "      <td>70000</td>\n",
       "      <td>77000.0</td>\n",
       "      <td>7</td>\n",
       "      <td>Yes</td>\n",
       "      <td>7000.0</td>\n",
       "    </tr>\n",
       "  </tbody>\n",
       "</table>\n",
       "</div>"
      ],
      "text/plain": [
       "      Name  Salary  NewSalary  NameLength IsHighEarner   Bonus\n",
       "0    Alice   50000    55000.0           5           No     0.0\n",
       "1      Bob   60000    66000.0           3          Yes  6000.0\n",
       "2  Charlie   70000    77000.0           7          Yes  7000.0"
      ]
     },
     "execution_count": 18,
     "metadata": {},
     "output_type": "execute_result"
    }
   ],
   "source": [
    "df"
   ]
  },
  {
   "cell_type": "markdown",
   "id": "c4ae299d",
   "metadata": {},
   "source": [
    "🔹 row is a Series representing one row\n",
    "\n",
    "🔹 You access columns like **row['Salary']**"
   ]
  },
  {
   "cell_type": "markdown",
   "id": "174a000d",
   "metadata": {},
   "source": [
    "## ✅ Example 5: Use with groupby()\n",
    "\n",
    "Let’s say you want to filter departments whose total salary > 100000:"
   ]
  },
  {
   "cell_type": "code",
   "execution_count": 21,
   "id": "d91150d8",
   "metadata": {},
   "outputs": [],
   "source": [
    "test=pd.DataFrame({\n",
    "    'Department': ['HR', 'HR', 'IT', 'IT', 'IT', 'Finance', 'Finance'],\n",
    "    'Employee': ['Alice', 'Bob', 'Charlie', 'David', 'Eva', 'Frank', 'Grace'],\n",
    "    'Salary': [50000, 60000, 70000, 80000, 75000, 40000, 42000],\n",
    "    'Bonus': [5000, 6000, 7000, 8000, 7500, 3000, 3500]\n",
    "}\n",
    ")"
   ]
  },
  {
   "cell_type": "code",
   "execution_count": 22,
   "id": "0b17ae12",
   "metadata": {},
   "outputs": [
    {
     "data": {
      "text/html": [
       "<div>\n",
       "<style scoped>\n",
       "    .dataframe tbody tr th:only-of-type {\n",
       "        vertical-align: middle;\n",
       "    }\n",
       "\n",
       "    .dataframe tbody tr th {\n",
       "        vertical-align: top;\n",
       "    }\n",
       "\n",
       "    .dataframe thead th {\n",
       "        text-align: right;\n",
       "    }\n",
       "</style>\n",
       "<table border=\"1\" class=\"dataframe\">\n",
       "  <thead>\n",
       "    <tr style=\"text-align: right;\">\n",
       "      <th></th>\n",
       "      <th>Department</th>\n",
       "      <th>Employee</th>\n",
       "      <th>Salary</th>\n",
       "      <th>Bonus</th>\n",
       "    </tr>\n",
       "  </thead>\n",
       "  <tbody>\n",
       "    <tr>\n",
       "      <th>0</th>\n",
       "      <td>HR</td>\n",
       "      <td>Alice</td>\n",
       "      <td>50000</td>\n",
       "      <td>5000</td>\n",
       "    </tr>\n",
       "    <tr>\n",
       "      <th>1</th>\n",
       "      <td>HR</td>\n",
       "      <td>Bob</td>\n",
       "      <td>60000</td>\n",
       "      <td>6000</td>\n",
       "    </tr>\n",
       "    <tr>\n",
       "      <th>2</th>\n",
       "      <td>IT</td>\n",
       "      <td>Charlie</td>\n",
       "      <td>70000</td>\n",
       "      <td>7000</td>\n",
       "    </tr>\n",
       "    <tr>\n",
       "      <th>3</th>\n",
       "      <td>IT</td>\n",
       "      <td>David</td>\n",
       "      <td>80000</td>\n",
       "      <td>8000</td>\n",
       "    </tr>\n",
       "    <tr>\n",
       "      <th>4</th>\n",
       "      <td>IT</td>\n",
       "      <td>Eva</td>\n",
       "      <td>75000</td>\n",
       "      <td>7500</td>\n",
       "    </tr>\n",
       "  </tbody>\n",
       "</table>\n",
       "</div>"
      ],
      "text/plain": [
       "  Department Employee  Salary  Bonus\n",
       "0         HR    Alice   50000   5000\n",
       "1         HR      Bob   60000   6000\n",
       "2         IT  Charlie   70000   7000\n",
       "3         IT    David   80000   8000\n",
       "4         IT      Eva   75000   7500"
      ]
     },
     "execution_count": 22,
     "metadata": {},
     "output_type": "execute_result"
    }
   ],
   "source": [
    "test.groupby('Department').filter(lambda x: x['Salary'].sum() > 100000)\n"
   ]
  },
  {
   "cell_type": "markdown",
   "id": "a178466a",
   "metadata": {},
   "source": [
    "## ✅ Lambda + map() vs apply()"
   ]
  },
  {
   "cell_type": "code",
   "execution_count": 23,
   "id": "fe338352",
   "metadata": {},
   "outputs": [],
   "source": [
    "df['UpperName'] = df['Name'].map(lambda x: x.upper())"
   ]
  },
  {
   "cell_type": "code",
   "execution_count": 24,
   "id": "9b6ffd45",
   "metadata": {},
   "outputs": [
    {
     "data": {
      "text/html": [
       "<div>\n",
       "<style scoped>\n",
       "    .dataframe tbody tr th:only-of-type {\n",
       "        vertical-align: middle;\n",
       "    }\n",
       "\n",
       "    .dataframe tbody tr th {\n",
       "        vertical-align: top;\n",
       "    }\n",
       "\n",
       "    .dataframe thead th {\n",
       "        text-align: right;\n",
       "    }\n",
       "</style>\n",
       "<table border=\"1\" class=\"dataframe\">\n",
       "  <thead>\n",
       "    <tr style=\"text-align: right;\">\n",
       "      <th></th>\n",
       "      <th>Name</th>\n",
       "      <th>Salary</th>\n",
       "      <th>NewSalary</th>\n",
       "      <th>NameLength</th>\n",
       "      <th>IsHighEarner</th>\n",
       "      <th>Bonus</th>\n",
       "      <th>UpperName</th>\n",
       "    </tr>\n",
       "  </thead>\n",
       "  <tbody>\n",
       "    <tr>\n",
       "      <th>0</th>\n",
       "      <td>Alice</td>\n",
       "      <td>50000</td>\n",
       "      <td>55000.0</td>\n",
       "      <td>5</td>\n",
       "      <td>No</td>\n",
       "      <td>0.0</td>\n",
       "      <td>ALICE</td>\n",
       "    </tr>\n",
       "    <tr>\n",
       "      <th>1</th>\n",
       "      <td>Bob</td>\n",
       "      <td>60000</td>\n",
       "      <td>66000.0</td>\n",
       "      <td>3</td>\n",
       "      <td>Yes</td>\n",
       "      <td>6000.0</td>\n",
       "      <td>BOB</td>\n",
       "    </tr>\n",
       "    <tr>\n",
       "      <th>2</th>\n",
       "      <td>Charlie</td>\n",
       "      <td>70000</td>\n",
       "      <td>77000.0</td>\n",
       "      <td>7</td>\n",
       "      <td>Yes</td>\n",
       "      <td>7000.0</td>\n",
       "      <td>CHARLIE</td>\n",
       "    </tr>\n",
       "  </tbody>\n",
       "</table>\n",
       "</div>"
      ],
      "text/plain": [
       "      Name  Salary  NewSalary  NameLength IsHighEarner   Bonus UpperName\n",
       "0    Alice   50000    55000.0           5           No     0.0     ALICE\n",
       "1      Bob   60000    66000.0           3          Yes  6000.0       BOB\n",
       "2  Charlie   70000    77000.0           7          Yes  7000.0   CHARLIE"
      ]
     },
     "execution_count": 24,
     "metadata": {},
     "output_type": "execute_result"
    }
   ],
   "source": [
    "df"
   ]
  },
  {
   "cell_type": "markdown",
   "id": "9ad54842",
   "metadata": {},
   "source": [
    "**map()** is faster but works on single columns only.\n",
    "\n",
    "**apply()** is more flexible and works for both columns and rows."
   ]
  },
  {
   "cell_type": "code",
   "execution_count": 38,
   "id": "cfde0cb4",
   "metadata": {},
   "outputs": [
    {
     "data": {
      "text/html": [
       "<img src=\"Lambda.png\" style=\"width:500px;height:300px\">"
      ],
      "text/plain": [
       "<IPython.core.display.HTML object>"
      ]
     },
     "execution_count": 38,
     "metadata": {},
     "output_type": "execute_result"
    }
   ],
   "source": [
    "HTML('<img src=\"Lambda.png\" style=\"width:500px;height:300px\">')"
   ]
  },
  {
   "cell_type": "markdown",
   "id": "041383d1",
   "metadata": {},
   "source": [
    "Here's a set of hands-on practice problems to master using lambda functions in pandas.\n",
    "\n",
    "We'll build step-by-step — from basic column operations to row-wise logic, and then integrate lambda + groupby + filter."
   ]
  },
  {
   "cell_type": "markdown",
   "id": "7084d1e4",
   "metadata": {},
   "source": [
    "## 🧪 Setup: Simple DataFrame"
   ]
  },
  {
   "cell_type": "code",
   "execution_count": 30,
   "id": "7844d31a",
   "metadata": {},
   "outputs": [],
   "source": [
    "import pandas as pd\n",
    "\n",
    "df = pd.DataFrame({\n",
    "    'Name': ['Alice', 'Bob', 'Charlie', 'David', 'Eva'],\n",
    "    'Department': ['HR', 'HR', 'IT', 'IT', 'Finance'],\n",
    "    'Salary': [50000, 60000, 70000, 80000, 45000],\n",
    "    'Bonus': [5000, 6000, 7000, 8000, 4000]\n",
    "})\n"
   ]
  },
  {
   "cell_type": "markdown",
   "id": "80fea753",
   "metadata": {},
   "source": [
    "## 🧩 PRACTICE PROBLEMS — LEVEL 1 (Column-wise apply() with lambda)\n",
    "## ✅ Problem 1: Convert all names to uppercase\n",
    "❓ Task: Create a column 'UpperName' with names in uppercase."
   ]
  },
  {
   "cell_type": "markdown",
   "id": "8fc963a6",
   "metadata": {},
   "source": [
    "## ✅ Problem 2: Calculate 10% tax on salary\n",
    "❓ Task: Add a new column 'Tax' which is 10% of salary."
   ]
  },
  {
   "cell_type": "markdown",
   "id": "ac5f595e",
   "metadata": {},
   "source": [
    "## ✅ Problem 3: Label salary level\n",
    "❓ Task: Add column 'SalaryLevel':\n",
    "\n",
    "'High' if salary > 65000\n",
    "\n",
    "'Low' otherwise"
   ]
  },
  {
   "cell_type": "markdown",
   "id": "e4a94878",
   "metadata": {},
   "source": [
    "## 🧩 PRACTICE PROBLEMS — LEVEL 2 (Row-wise logic with apply(axis=1))\n",
    "## ✅ Problem 4: Calculate total compensation\n",
    "❓ Task: Add a column 'TotalPay' = Salary + Bonus using lambda."
   ]
  },
  {
   "cell_type": "markdown",
   "id": "9af80976",
   "metadata": {},
   "source": [
    "## ✅ Problem 5: Conditional bonus adjustment\n",
    "❓ Task: Add column 'AdjBonus':\n",
    "\n",
    "If salary > 60000 → 15% of salary\n",
    "\n",
    "Else → 10% of salary\n",
    "\n",
    "Use lambda with axis=1."
   ]
  },
  {
   "cell_type": "markdown",
   "id": "c8e4208d",
   "metadata": {},
   "source": [
    "## 🧩 PRACTICE PROBLEMS — LEVEL 3 (Lambda with groupby() and filter())\n",
    "## ✅ Problem 6: Keep only high-paying departments\n",
    "❓ Task: Filter only those departments where the total salary > 100000.\n",
    "    \n",
    "    Use:\n",
    "        df.groupby('Department').filter(lambda x: ...)"
   ]
  },
  {
   "cell_type": "markdown",
   "id": "8c52c806",
   "metadata": {},
   "source": [
    "## ✅ Problem 7: Flag highest earner in each department\n",
    "❓ Task: Add a column 'IsTopEarner':\n",
    "\n",
    "Set to 'Yes' if the person has the highest salary in their department\n",
    "\n",
    "Else 'No'\n",
    "\n",
    "You’ll need:\n",
    "\n",
    ".groupby('Department')\n",
    "\n",
    ".apply(lambda group: ...)\n",
    "\n",
    "Inside it, find group['Salary'].max() and compare"
   ]
  },
  {
   "cell_type": "markdown",
   "id": "b127bb51",
   "metadata": {},
   "source": [
    "## ✅ Problem 8: Assign bonus rating\n",
    "❓ Task: Add column 'BonusRating' using this logic:\n",
    "\n",
    "If Bonus > 7000 → 'Excellent'\n",
    "\n",
    "If Bonus > 5000 → 'Good'\n",
    "\n",
    "Else → 'Average'"
   ]
  },
  {
   "cell_type": "markdown",
   "id": "9f588efd",
   "metadata": {},
   "source": [
    "## 🧠 Bonus Challenge\n",
    "## ✅ Problem 9: Department-wise bonus percentage\n",
    "❓ Task: For each person, calculate 'BonusPct' = Bonus / Total Bonus in department.\n",
    "\n",
    "Steps:\n",
    "\n",
    "Use .groupby('Department')['Bonus'].transform('sum')\n",
    "\n",
    "Then use lambda to divide"
   ]
  },
  {
   "cell_type": "code",
   "execution_count": null,
   "id": "7e016b63",
   "metadata": {},
   "outputs": [],
   "source": []
  }
 ],
 "metadata": {
  "kernelspec": {
   "display_name": "Python 3 (ipykernel)",
   "language": "python",
   "name": "python3"
  },
  "language_info": {
   "codemirror_mode": {
    "name": "ipython",
    "version": 3
   },
   "file_extension": ".py",
   "mimetype": "text/x-python",
   "name": "python",
   "nbconvert_exporter": "python",
   "pygments_lexer": "ipython3",
   "version": "3.10.9"
  }
 },
 "nbformat": 4,
 "nbformat_minor": 5
}
