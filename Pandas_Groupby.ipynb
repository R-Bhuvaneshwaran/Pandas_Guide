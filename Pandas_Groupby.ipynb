{
 "cells": [
  {
   "cell_type": "markdown",
   "id": "2ba9e771",
   "metadata": {},
   "source": [
    "## 🧮 6. GroupBy & Aggregation\n"
   ]
  },
  {
   "cell_type": "markdown",
   "id": "5e2e2ca0",
   "metadata": {},
   "source": [
    "## 🧠 What is groupby()?\n",
    "The groupby() function in pandas is used to split the data into groups based on some criteria (column values), and then apply some aggregate function, transformation, or filtering on each group."
   ]
  },
  {
   "cell_type": "code",
   "execution_count": 36,
   "id": "8261d143",
   "metadata": {},
   "outputs": [
    {
     "data": {
      "text/html": [
       "<div>\n",
       "<style scoped>\n",
       "    .dataframe tbody tr th:only-of-type {\n",
       "        vertical-align: middle;\n",
       "    }\n",
       "\n",
       "    .dataframe tbody tr th {\n",
       "        vertical-align: top;\n",
       "    }\n",
       "\n",
       "    .dataframe thead th {\n",
       "        text-align: right;\n",
       "    }\n",
       "</style>\n",
       "<table border=\"1\" class=\"dataframe\">\n",
       "  <thead>\n",
       "    <tr style=\"text-align: right;\">\n",
       "      <th></th>\n",
       "      <th>Department</th>\n",
       "      <th>Employee</th>\n",
       "      <th>Salary</th>\n",
       "      <th>Bonus</th>\n",
       "    </tr>\n",
       "  </thead>\n",
       "  <tbody>\n",
       "    <tr>\n",
       "      <th>0</th>\n",
       "      <td>HR</td>\n",
       "      <td>Alice</td>\n",
       "      <td>50000</td>\n",
       "      <td>5000</td>\n",
       "    </tr>\n",
       "    <tr>\n",
       "      <th>1</th>\n",
       "      <td>HR</td>\n",
       "      <td>Bob</td>\n",
       "      <td>60000</td>\n",
       "      <td>6000</td>\n",
       "    </tr>\n",
       "    <tr>\n",
       "      <th>2</th>\n",
       "      <td>IT</td>\n",
       "      <td>Charlie</td>\n",
       "      <td>70000</td>\n",
       "      <td>7000</td>\n",
       "    </tr>\n",
       "    <tr>\n",
       "      <th>3</th>\n",
       "      <td>IT</td>\n",
       "      <td>David</td>\n",
       "      <td>80000</td>\n",
       "      <td>8000</td>\n",
       "    </tr>\n",
       "    <tr>\n",
       "      <th>4</th>\n",
       "      <td>IT</td>\n",
       "      <td>Eva</td>\n",
       "      <td>75000</td>\n",
       "      <td>7500</td>\n",
       "    </tr>\n",
       "    <tr>\n",
       "      <th>5</th>\n",
       "      <td>Finance</td>\n",
       "      <td>Frank</td>\n",
       "      <td>40000</td>\n",
       "      <td>3000</td>\n",
       "    </tr>\n",
       "    <tr>\n",
       "      <th>6</th>\n",
       "      <td>Finance</td>\n",
       "      <td>Grace</td>\n",
       "      <td>42000</td>\n",
       "      <td>3500</td>\n",
       "    </tr>\n",
       "  </tbody>\n",
       "</table>\n",
       "</div>"
      ],
      "text/plain": [
       "  Department Employee  Salary  Bonus\n",
       "0         HR    Alice   50000   5000\n",
       "1         HR      Bob   60000   6000\n",
       "2         IT  Charlie   70000   7000\n",
       "3         IT    David   80000   8000\n",
       "4         IT      Eva   75000   7500\n",
       "5    Finance    Frank   40000   3000\n",
       "6    Finance    Grace   42000   3500"
      ]
     },
     "execution_count": 36,
     "metadata": {},
     "output_type": "execute_result"
    }
   ],
   "source": [
    "import pandas as pd\n",
    "\n",
    "data = {\n",
    "    'Department': ['HR', 'HR', 'IT', 'IT', 'IT', 'Finance', 'Finance'],\n",
    "    'Employee': ['Alice', 'Bob', 'Charlie', 'David', 'Eva', 'Frank', 'Grace'],\n",
    "    'Salary': [50000, 60000, 70000, 80000, 75000, 40000, 42000],\n",
    "    'Bonus': [5000, 6000, 7000, 8000, 7500, 3000, 3500]\n",
    "}\n",
    "\n",
    "df = pd.DataFrame(data)\n",
    "df"
   ]
  },
  {
   "cell_type": "markdown",
   "id": "ba9c3971",
   "metadata": {},
   "source": [
    "## ✅ Step 1: Basic groupby()\n",
    "👉 Group by a column and get the average salary:"
   ]
  },
  {
   "cell_type": "code",
   "execution_count": 39,
   "id": "c239b09b",
   "metadata": {},
   "outputs": [
    {
     "data": {
      "text/plain": [
       "Department\n",
       "Finance    41000.0\n",
       "HR         55000.0\n",
       "IT         75000.0\n",
       "Name: Salary, dtype: float64"
      ]
     },
     "execution_count": 39,
     "metadata": {},
     "output_type": "execute_result"
    }
   ],
   "source": [
    "df.groupby('Department')['Salary'].mean()"
   ]
  },
  {
   "cell_type": "markdown",
   "id": "78c4804b",
   "metadata": {},
   "source": [
    "## ✅ Step 2: Aggregation Functions\n",
    "You can use:\n",
    "\n",
    ".mean()\n",
    "\n",
    ".sum()\n",
    "\n",
    ".count()\n",
    "\n",
    ".max()\n",
    "\n",
    ".min()\n",
    "\n",
    ".median()\n",
    "\n",
    ".std(), .var() etc."
   ]
  },
  {
   "cell_type": "code",
   "execution_count": 41,
   "id": "f9e2f746",
   "metadata": {},
   "outputs": [
    {
     "data": {
      "text/plain": [
       "Department\n",
       "Finance     82000\n",
       "HR         110000\n",
       "IT         225000\n",
       "Name: Salary, dtype: int64"
      ]
     },
     "execution_count": 41,
     "metadata": {},
     "output_type": "execute_result"
    }
   ],
   "source": [
    "df.groupby('Department')['Salary'].sum()"
   ]
  },
  {
   "cell_type": "code",
   "execution_count": 42,
   "id": "40b7807e",
   "metadata": {},
   "outputs": [
    {
     "data": {
      "text/plain": [
       "Department\n",
       "Finance    2\n",
       "HR         2\n",
       "IT         3\n",
       "Name: Department, dtype: int64"
      ]
     },
     "execution_count": 42,
     "metadata": {},
     "output_type": "execute_result"
    }
   ],
   "source": [
    "df.groupby('Department')['Department'].count()"
   ]
  },
  {
   "cell_type": "code",
   "execution_count": 43,
   "id": "28ce98bf",
   "metadata": {},
   "outputs": [
    {
     "data": {
      "text/plain": [
       "Department\n",
       "Finance    3000\n",
       "HR         5000\n",
       "IT         7000\n",
       "Name: Bonus, dtype: int64"
      ]
     },
     "execution_count": 43,
     "metadata": {},
     "output_type": "execute_result"
    }
   ],
   "source": [
    "df.groupby('Department')['Bonus'].min()"
   ]
  },
  {
   "cell_type": "code",
   "execution_count": 44,
   "id": "4bee6045",
   "metadata": {},
   "outputs": [
    {
     "data": {
      "text/plain": [
       "Department\n",
       "Finance    3500\n",
       "HR         6000\n",
       "IT         8000\n",
       "Name: Bonus, dtype: int64"
      ]
     },
     "execution_count": 44,
     "metadata": {},
     "output_type": "execute_result"
    }
   ],
   "source": [
    "df.groupby('Department')['Bonus'].max()"
   ]
  },
  {
   "cell_type": "markdown",
   "id": "49b29571",
   "metadata": {},
   "source": [
    "## ✅ Step 3: Aggregating Multiple Columns"
   ]
  },
  {
   "cell_type": "code",
   "execution_count": 45,
   "id": "48612a2a",
   "metadata": {},
   "outputs": [
    {
     "data": {
      "text/html": [
       "<div>\n",
       "<style scoped>\n",
       "    .dataframe tbody tr th:only-of-type {\n",
       "        vertical-align: middle;\n",
       "    }\n",
       "\n",
       "    .dataframe tbody tr th {\n",
       "        vertical-align: top;\n",
       "    }\n",
       "\n",
       "    .dataframe thead th {\n",
       "        text-align: right;\n",
       "    }\n",
       "</style>\n",
       "<table border=\"1\" class=\"dataframe\">\n",
       "  <thead>\n",
       "    <tr style=\"text-align: right;\">\n",
       "      <th></th>\n",
       "      <th>Salary</th>\n",
       "      <th>Bonus</th>\n",
       "    </tr>\n",
       "    <tr>\n",
       "      <th>Department</th>\n",
       "      <th></th>\n",
       "      <th></th>\n",
       "    </tr>\n",
       "  </thead>\n",
       "  <tbody>\n",
       "    <tr>\n",
       "      <th>Finance</th>\n",
       "      <td>41000.0</td>\n",
       "      <td>3250.0</td>\n",
       "    </tr>\n",
       "    <tr>\n",
       "      <th>HR</th>\n",
       "      <td>55000.0</td>\n",
       "      <td>5500.0</td>\n",
       "    </tr>\n",
       "    <tr>\n",
       "      <th>IT</th>\n",
       "      <td>75000.0</td>\n",
       "      <td>7500.0</td>\n",
       "    </tr>\n",
       "  </tbody>\n",
       "</table>\n",
       "</div>"
      ],
      "text/plain": [
       "             Salary   Bonus\n",
       "Department                 \n",
       "Finance     41000.0  3250.0\n",
       "HR          55000.0  5500.0\n",
       "IT          75000.0  7500.0"
      ]
     },
     "execution_count": 45,
     "metadata": {},
     "output_type": "execute_result"
    }
   ],
   "source": [
    "df.groupby('Department')[['Salary', 'Bonus']].mean()"
   ]
  },
  {
   "cell_type": "code",
   "execution_count": 46,
   "id": "efdb16a7",
   "metadata": {},
   "outputs": [
    {
     "data": {
      "text/html": [
       "<div>\n",
       "<style scoped>\n",
       "    .dataframe tbody tr th:only-of-type {\n",
       "        vertical-align: middle;\n",
       "    }\n",
       "\n",
       "    .dataframe tbody tr th {\n",
       "        vertical-align: top;\n",
       "    }\n",
       "\n",
       "    .dataframe thead th {\n",
       "        text-align: right;\n",
       "    }\n",
       "</style>\n",
       "<table border=\"1\" class=\"dataframe\">\n",
       "  <thead>\n",
       "    <tr style=\"text-align: right;\">\n",
       "      <th></th>\n",
       "      <th>Salary</th>\n",
       "      <th>Bonus</th>\n",
       "    </tr>\n",
       "    <tr>\n",
       "      <th>Department</th>\n",
       "      <th></th>\n",
       "      <th></th>\n",
       "    </tr>\n",
       "  </thead>\n",
       "  <tbody>\n",
       "    <tr>\n",
       "      <th>Finance</th>\n",
       "      <td>40000</td>\n",
       "      <td>3000</td>\n",
       "    </tr>\n",
       "    <tr>\n",
       "      <th>HR</th>\n",
       "      <td>50000</td>\n",
       "      <td>5000</td>\n",
       "    </tr>\n",
       "    <tr>\n",
       "      <th>IT</th>\n",
       "      <td>70000</td>\n",
       "      <td>7000</td>\n",
       "    </tr>\n",
       "  </tbody>\n",
       "</table>\n",
       "</div>"
      ],
      "text/plain": [
       "            Salary  Bonus\n",
       "Department               \n",
       "Finance      40000   3000\n",
       "HR           50000   5000\n",
       "IT           70000   7000"
      ]
     },
     "execution_count": 46,
     "metadata": {},
     "output_type": "execute_result"
    }
   ],
   "source": [
    "df.groupby('Department')[['Salary', 'Bonus']].min()"
   ]
  },
  {
   "cell_type": "code",
   "execution_count": 47,
   "id": "358e1a81",
   "metadata": {},
   "outputs": [
    {
     "data": {
      "text/html": [
       "<div>\n",
       "<style scoped>\n",
       "    .dataframe tbody tr th:only-of-type {\n",
       "        vertical-align: middle;\n",
       "    }\n",
       "\n",
       "    .dataframe tbody tr th {\n",
       "        vertical-align: top;\n",
       "    }\n",
       "\n",
       "    .dataframe thead th {\n",
       "        text-align: right;\n",
       "    }\n",
       "</style>\n",
       "<table border=\"1\" class=\"dataframe\">\n",
       "  <thead>\n",
       "    <tr style=\"text-align: right;\">\n",
       "      <th></th>\n",
       "      <th>Salary</th>\n",
       "      <th>Bonus</th>\n",
       "    </tr>\n",
       "    <tr>\n",
       "      <th>Department</th>\n",
       "      <th></th>\n",
       "      <th></th>\n",
       "    </tr>\n",
       "  </thead>\n",
       "  <tbody>\n",
       "    <tr>\n",
       "      <th>Finance</th>\n",
       "      <td>42000</td>\n",
       "      <td>3500</td>\n",
       "    </tr>\n",
       "    <tr>\n",
       "      <th>HR</th>\n",
       "      <td>60000</td>\n",
       "      <td>6000</td>\n",
       "    </tr>\n",
       "    <tr>\n",
       "      <th>IT</th>\n",
       "      <td>80000</td>\n",
       "      <td>8000</td>\n",
       "    </tr>\n",
       "  </tbody>\n",
       "</table>\n",
       "</div>"
      ],
      "text/plain": [
       "            Salary  Bonus\n",
       "Department               \n",
       "Finance      42000   3500\n",
       "HR           60000   6000\n",
       "IT           80000   8000"
      ]
     },
     "execution_count": 47,
     "metadata": {},
     "output_type": "execute_result"
    }
   ],
   "source": [
    "df.groupby('Department')[['Salary', 'Bonus']].max()"
   ]
  },
  {
   "cell_type": "code",
   "execution_count": 48,
   "id": "14172def",
   "metadata": {},
   "outputs": [
    {
     "data": {
      "text/html": [
       "<div>\n",
       "<style scoped>\n",
       "    .dataframe tbody tr th:only-of-type {\n",
       "        vertical-align: middle;\n",
       "    }\n",
       "\n",
       "    .dataframe tbody tr th {\n",
       "        vertical-align: top;\n",
       "    }\n",
       "\n",
       "    .dataframe thead th {\n",
       "        text-align: right;\n",
       "    }\n",
       "</style>\n",
       "<table border=\"1\" class=\"dataframe\">\n",
       "  <thead>\n",
       "    <tr style=\"text-align: right;\">\n",
       "      <th></th>\n",
       "      <th>Salary</th>\n",
       "      <th>Bonus</th>\n",
       "    </tr>\n",
       "    <tr>\n",
       "      <th>Department</th>\n",
       "      <th></th>\n",
       "      <th></th>\n",
       "    </tr>\n",
       "  </thead>\n",
       "  <tbody>\n",
       "    <tr>\n",
       "      <th>Finance</th>\n",
       "      <td>41000.0</td>\n",
       "      <td>3250.0</td>\n",
       "    </tr>\n",
       "    <tr>\n",
       "      <th>HR</th>\n",
       "      <td>55000.0</td>\n",
       "      <td>5500.0</td>\n",
       "    </tr>\n",
       "    <tr>\n",
       "      <th>IT</th>\n",
       "      <td>75000.0</td>\n",
       "      <td>7500.0</td>\n",
       "    </tr>\n",
       "  </tbody>\n",
       "</table>\n",
       "</div>"
      ],
      "text/plain": [
       "             Salary   Bonus\n",
       "Department                 \n",
       "Finance     41000.0  3250.0\n",
       "HR          55000.0  5500.0\n",
       "IT          75000.0  7500.0"
      ]
     },
     "execution_count": 48,
     "metadata": {},
     "output_type": "execute_result"
    }
   ],
   "source": [
    "df.groupby('Department').mean(numeric_only=True)"
   ]
  },
  {
   "cell_type": "markdown",
   "id": "2834250c",
   "metadata": {},
   "source": [
    "## ✅ Step 4: Using .agg() for Multiple Aggregations"
   ]
  },
  {
   "cell_type": "code",
   "execution_count": 53,
   "id": "4f4ae1a8",
   "metadata": {},
   "outputs": [
    {
     "data": {
      "text/html": [
       "<div>\n",
       "<style scoped>\n",
       "    .dataframe tbody tr th:only-of-type {\n",
       "        vertical-align: middle;\n",
       "    }\n",
       "\n",
       "    .dataframe tbody tr th {\n",
       "        vertical-align: top;\n",
       "    }\n",
       "\n",
       "    .dataframe thead tr th {\n",
       "        text-align: left;\n",
       "    }\n",
       "\n",
       "    .dataframe thead tr:last-of-type th {\n",
       "        text-align: right;\n",
       "    }\n",
       "</style>\n",
       "<table border=\"1\" class=\"dataframe\">\n",
       "  <thead>\n",
       "    <tr>\n",
       "      <th></th>\n",
       "      <th colspan=\"2\" halign=\"left\">Salary</th>\n",
       "      <th colspan=\"2\" halign=\"left\">Bonus</th>\n",
       "    </tr>\n",
       "    <tr>\n",
       "      <th></th>\n",
       "      <th>mean</th>\n",
       "      <th>max</th>\n",
       "      <th>sum</th>\n",
       "      <th>min</th>\n",
       "    </tr>\n",
       "    <tr>\n",
       "      <th>Department</th>\n",
       "      <th></th>\n",
       "      <th></th>\n",
       "      <th></th>\n",
       "      <th></th>\n",
       "    </tr>\n",
       "  </thead>\n",
       "  <tbody>\n",
       "    <tr>\n",
       "      <th>Finance</th>\n",
       "      <td>41000.0</td>\n",
       "      <td>42000</td>\n",
       "      <td>6500</td>\n",
       "      <td>3000</td>\n",
       "    </tr>\n",
       "    <tr>\n",
       "      <th>HR</th>\n",
       "      <td>55000.0</td>\n",
       "      <td>60000</td>\n",
       "      <td>11000</td>\n",
       "      <td>5000</td>\n",
       "    </tr>\n",
       "    <tr>\n",
       "      <th>IT</th>\n",
       "      <td>75000.0</td>\n",
       "      <td>80000</td>\n",
       "      <td>22500</td>\n",
       "      <td>7000</td>\n",
       "    </tr>\n",
       "  </tbody>\n",
       "</table>\n",
       "</div>"
      ],
      "text/plain": [
       "             Salary         Bonus      \n",
       "               mean    max    sum   min\n",
       "Department                             \n",
       "Finance     41000.0  42000   6500  3000\n",
       "HR          55000.0  60000  11000  5000\n",
       "IT          75000.0  80000  22500  7000"
      ]
     },
     "execution_count": 53,
     "metadata": {},
     "output_type": "execute_result"
    }
   ],
   "source": [
    "df.groupby('Department').agg({'Salary': ['mean', 'max'], 'Bonus': ['sum', 'min']})"
   ]
  },
  {
   "cell_type": "markdown",
   "id": "e2c34fb1",
   "metadata": {},
   "source": [
    "## ✅ Step 5: GroupBy with Multiple Columns"
   ]
  },
  {
   "cell_type": "code",
   "execution_count": 54,
   "id": "354de91f",
   "metadata": {},
   "outputs": [
    {
     "data": {
      "text/html": [
       "<div>\n",
       "<style scoped>\n",
       "    .dataframe tbody tr th:only-of-type {\n",
       "        vertical-align: middle;\n",
       "    }\n",
       "\n",
       "    .dataframe tbody tr th {\n",
       "        vertical-align: top;\n",
       "    }\n",
       "\n",
       "    .dataframe thead th {\n",
       "        text-align: right;\n",
       "    }\n",
       "</style>\n",
       "<table border=\"1\" class=\"dataframe\">\n",
       "  <thead>\n",
       "    <tr style=\"text-align: right;\">\n",
       "      <th></th>\n",
       "      <th></th>\n",
       "      <th>Salary</th>\n",
       "    </tr>\n",
       "    <tr>\n",
       "      <th>Department</th>\n",
       "      <th>Employee</th>\n",
       "      <th></th>\n",
       "    </tr>\n",
       "  </thead>\n",
       "  <tbody>\n",
       "    <tr>\n",
       "      <th rowspan=\"2\" valign=\"top\">Finance</th>\n",
       "      <th>Frank</th>\n",
       "      <td>40000</td>\n",
       "    </tr>\n",
       "    <tr>\n",
       "      <th>Grace</th>\n",
       "      <td>42000</td>\n",
       "    </tr>\n",
       "    <tr>\n",
       "      <th rowspan=\"2\" valign=\"top\">HR</th>\n",
       "      <th>Alice</th>\n",
       "      <td>50000</td>\n",
       "    </tr>\n",
       "    <tr>\n",
       "      <th>Bob</th>\n",
       "      <td>60000</td>\n",
       "    </tr>\n",
       "    <tr>\n",
       "      <th rowspan=\"3\" valign=\"top\">IT</th>\n",
       "      <th>Charlie</th>\n",
       "      <td>70000</td>\n",
       "    </tr>\n",
       "    <tr>\n",
       "      <th>David</th>\n",
       "      <td>80000</td>\n",
       "    </tr>\n",
       "    <tr>\n",
       "      <th>Eva</th>\n",
       "      <td>75000</td>\n",
       "    </tr>\n",
       "  </tbody>\n",
       "</table>\n",
       "</div>"
      ],
      "text/plain": [
       "                     Salary\n",
       "Department Employee        \n",
       "Finance    Frank      40000\n",
       "           Grace      42000\n",
       "HR         Alice      50000\n",
       "           Bob        60000\n",
       "IT         Charlie    70000\n",
       "           David      80000\n",
       "           Eva        75000"
      ]
     },
     "execution_count": 54,
     "metadata": {},
     "output_type": "execute_result"
    }
   ],
   "source": [
    "df.groupby(['Department', 'Employee'])[['Salary']].sum()"
   ]
  },
  {
   "cell_type": "code",
   "execution_count": 57,
   "id": "6f3df3ef",
   "metadata": {},
   "outputs": [
    {
     "data": {
      "text/html": [
       "<div>\n",
       "<style scoped>\n",
       "    .dataframe tbody tr th:only-of-type {\n",
       "        vertical-align: middle;\n",
       "    }\n",
       "\n",
       "    .dataframe tbody tr th {\n",
       "        vertical-align: top;\n",
       "    }\n",
       "\n",
       "    .dataframe thead th {\n",
       "        text-align: right;\n",
       "    }\n",
       "</style>\n",
       "<table border=\"1\" class=\"dataframe\">\n",
       "  <thead>\n",
       "    <tr style=\"text-align: right;\">\n",
       "      <th></th>\n",
       "      <th></th>\n",
       "      <th>Salary</th>\n",
       "    </tr>\n",
       "    <tr>\n",
       "      <th>Department</th>\n",
       "      <th>Employee</th>\n",
       "      <th></th>\n",
       "    </tr>\n",
       "  </thead>\n",
       "  <tbody>\n",
       "    <tr>\n",
       "      <th rowspan=\"2\" valign=\"top\">Finance</th>\n",
       "      <th>Frank</th>\n",
       "      <td>40000</td>\n",
       "    </tr>\n",
       "    <tr>\n",
       "      <th>Grace</th>\n",
       "      <td>42000</td>\n",
       "    </tr>\n",
       "    <tr>\n",
       "      <th rowspan=\"2\" valign=\"top\">HR</th>\n",
       "      <th>Alice</th>\n",
       "      <td>50000</td>\n",
       "    </tr>\n",
       "    <tr>\n",
       "      <th>Bob</th>\n",
       "      <td>60000</td>\n",
       "    </tr>\n",
       "    <tr>\n",
       "      <th rowspan=\"3\" valign=\"top\">IT</th>\n",
       "      <th>Charlie</th>\n",
       "      <td>70000</td>\n",
       "    </tr>\n",
       "    <tr>\n",
       "      <th>David</th>\n",
       "      <td>80000</td>\n",
       "    </tr>\n",
       "    <tr>\n",
       "      <th>Eva</th>\n",
       "      <td>75000</td>\n",
       "    </tr>\n",
       "  </tbody>\n",
       "</table>\n",
       "</div>"
      ],
      "text/plain": [
       "                     Salary\n",
       "Department Employee        \n",
       "Finance    Frank      40000\n",
       "           Grace      42000\n",
       "HR         Alice      50000\n",
       "           Bob        60000\n",
       "IT         Charlie    70000\n",
       "           David      80000\n",
       "           Eva        75000"
      ]
     },
     "execution_count": 57,
     "metadata": {},
     "output_type": "execute_result"
    }
   ],
   "source": [
    "df.groupby(['Department', 'Employee'])[['Salary']].max()"
   ]
  },
  {
   "cell_type": "markdown",
   "id": "76ee2edf",
   "metadata": {},
   "source": [
    "## ✅ Step 6: Reset Index after Grouping"
   ]
  },
  {
   "cell_type": "code",
   "execution_count": 58,
   "id": "da9702fd",
   "metadata": {},
   "outputs": [
    {
     "data": {
      "text/html": [
       "<div>\n",
       "<style scoped>\n",
       "    .dataframe tbody tr th:only-of-type {\n",
       "        vertical-align: middle;\n",
       "    }\n",
       "\n",
       "    .dataframe tbody tr th {\n",
       "        vertical-align: top;\n",
       "    }\n",
       "\n",
       "    .dataframe thead th {\n",
       "        text-align: right;\n",
       "    }\n",
       "</style>\n",
       "<table border=\"1\" class=\"dataframe\">\n",
       "  <thead>\n",
       "    <tr style=\"text-align: right;\">\n",
       "      <th></th>\n",
       "      <th>Department</th>\n",
       "      <th>Salary</th>\n",
       "    </tr>\n",
       "  </thead>\n",
       "  <tbody>\n",
       "    <tr>\n",
       "      <th>0</th>\n",
       "      <td>Finance</td>\n",
       "      <td>41000.0</td>\n",
       "    </tr>\n",
       "    <tr>\n",
       "      <th>1</th>\n",
       "      <td>HR</td>\n",
       "      <td>55000.0</td>\n",
       "    </tr>\n",
       "    <tr>\n",
       "      <th>2</th>\n",
       "      <td>IT</td>\n",
       "      <td>75000.0</td>\n",
       "    </tr>\n",
       "  </tbody>\n",
       "</table>\n",
       "</div>"
      ],
      "text/plain": [
       "  Department   Salary\n",
       "0    Finance  41000.0\n",
       "1         HR  55000.0\n",
       "2         IT  75000.0"
      ]
     },
     "execution_count": 58,
     "metadata": {},
     "output_type": "execute_result"
    }
   ],
   "source": [
    "grouped = df.groupby('Department')['Salary'].mean().reset_index()\n",
    "grouped"
   ]
  },
  {
   "cell_type": "markdown",
   "id": "3858ec80",
   "metadata": {},
   "source": [
    "## ✅ Step 7: Using .transform() (Return Same Shape as Original)"
   ]
  },
  {
   "cell_type": "code",
   "execution_count": 66,
   "id": "3571b63c",
   "metadata": {},
   "outputs": [],
   "source": [
    "# This creates a new column where each row gets the department average\n",
    "df['AvgDeptSalary'] = df.groupby('Department')['Salary'].transform('mean')\n"
   ]
  },
  {
   "cell_type": "code",
   "execution_count": 60,
   "id": "55e7d230",
   "metadata": {},
   "outputs": [
    {
     "data": {
      "text/html": [
       "<div>\n",
       "<style scoped>\n",
       "    .dataframe tbody tr th:only-of-type {\n",
       "        vertical-align: middle;\n",
       "    }\n",
       "\n",
       "    .dataframe tbody tr th {\n",
       "        vertical-align: top;\n",
       "    }\n",
       "\n",
       "    .dataframe thead th {\n",
       "        text-align: right;\n",
       "    }\n",
       "</style>\n",
       "<table border=\"1\" class=\"dataframe\">\n",
       "  <thead>\n",
       "    <tr style=\"text-align: right;\">\n",
       "      <th></th>\n",
       "      <th>Department</th>\n",
       "      <th>Employee</th>\n",
       "      <th>Salary</th>\n",
       "      <th>Bonus</th>\n",
       "      <th>AvgDeptSalary</th>\n",
       "    </tr>\n",
       "  </thead>\n",
       "  <tbody>\n",
       "    <tr>\n",
       "      <th>0</th>\n",
       "      <td>HR</td>\n",
       "      <td>Alice</td>\n",
       "      <td>50000</td>\n",
       "      <td>5000</td>\n",
       "      <td>55000.0</td>\n",
       "    </tr>\n",
       "    <tr>\n",
       "      <th>1</th>\n",
       "      <td>HR</td>\n",
       "      <td>Bob</td>\n",
       "      <td>60000</td>\n",
       "      <td>6000</td>\n",
       "      <td>55000.0</td>\n",
       "    </tr>\n",
       "    <tr>\n",
       "      <th>2</th>\n",
       "      <td>IT</td>\n",
       "      <td>Charlie</td>\n",
       "      <td>70000</td>\n",
       "      <td>7000</td>\n",
       "      <td>75000.0</td>\n",
       "    </tr>\n",
       "    <tr>\n",
       "      <th>3</th>\n",
       "      <td>IT</td>\n",
       "      <td>David</td>\n",
       "      <td>80000</td>\n",
       "      <td>8000</td>\n",
       "      <td>75000.0</td>\n",
       "    </tr>\n",
       "    <tr>\n",
       "      <th>4</th>\n",
       "      <td>IT</td>\n",
       "      <td>Eva</td>\n",
       "      <td>75000</td>\n",
       "      <td>7500</td>\n",
       "      <td>75000.0</td>\n",
       "    </tr>\n",
       "    <tr>\n",
       "      <th>5</th>\n",
       "      <td>Finance</td>\n",
       "      <td>Frank</td>\n",
       "      <td>40000</td>\n",
       "      <td>3000</td>\n",
       "      <td>41000.0</td>\n",
       "    </tr>\n",
       "    <tr>\n",
       "      <th>6</th>\n",
       "      <td>Finance</td>\n",
       "      <td>Grace</td>\n",
       "      <td>42000</td>\n",
       "      <td>3500</td>\n",
       "      <td>41000.0</td>\n",
       "    </tr>\n",
       "  </tbody>\n",
       "</table>\n",
       "</div>"
      ],
      "text/plain": [
       "  Department Employee  Salary  Bonus  AvgDeptSalary\n",
       "0         HR    Alice   50000   5000        55000.0\n",
       "1         HR      Bob   60000   6000        55000.0\n",
       "2         IT  Charlie   70000   7000        75000.0\n",
       "3         IT    David   80000   8000        75000.0\n",
       "4         IT      Eva   75000   7500        75000.0\n",
       "5    Finance    Frank   40000   3000        41000.0\n",
       "6    Finance    Grace   42000   3500        41000.0"
      ]
     },
     "execution_count": 60,
     "metadata": {},
     "output_type": "execute_result"
    }
   ],
   "source": [
    "df"
   ]
  },
  {
   "cell_type": "code",
   "execution_count": 64,
   "id": "96264d1f",
   "metadata": {},
   "outputs": [],
   "source": [
    "df['MaxDep_sal']=df.groupby(\"Department\")['Salary'].transform(max)"
   ]
  },
  {
   "cell_type": "code",
   "execution_count": 65,
   "id": "81879073",
   "metadata": {},
   "outputs": [
    {
     "data": {
      "text/html": [
       "<div>\n",
       "<style scoped>\n",
       "    .dataframe tbody tr th:only-of-type {\n",
       "        vertical-align: middle;\n",
       "    }\n",
       "\n",
       "    .dataframe tbody tr th {\n",
       "        vertical-align: top;\n",
       "    }\n",
       "\n",
       "    .dataframe thead th {\n",
       "        text-align: right;\n",
       "    }\n",
       "</style>\n",
       "<table border=\"1\" class=\"dataframe\">\n",
       "  <thead>\n",
       "    <tr style=\"text-align: right;\">\n",
       "      <th></th>\n",
       "      <th>Department</th>\n",
       "      <th>Employee</th>\n",
       "      <th>Salary</th>\n",
       "      <th>Bonus</th>\n",
       "      <th>AvgDeptSalary</th>\n",
       "      <th>MaxDep_sal</th>\n",
       "    </tr>\n",
       "  </thead>\n",
       "  <tbody>\n",
       "    <tr>\n",
       "      <th>0</th>\n",
       "      <td>HR</td>\n",
       "      <td>Alice</td>\n",
       "      <td>50000</td>\n",
       "      <td>5000</td>\n",
       "      <td>55000.0</td>\n",
       "      <td>60000</td>\n",
       "    </tr>\n",
       "    <tr>\n",
       "      <th>1</th>\n",
       "      <td>HR</td>\n",
       "      <td>Bob</td>\n",
       "      <td>60000</td>\n",
       "      <td>6000</td>\n",
       "      <td>55000.0</td>\n",
       "      <td>60000</td>\n",
       "    </tr>\n",
       "    <tr>\n",
       "      <th>2</th>\n",
       "      <td>IT</td>\n",
       "      <td>Charlie</td>\n",
       "      <td>70000</td>\n",
       "      <td>7000</td>\n",
       "      <td>75000.0</td>\n",
       "      <td>80000</td>\n",
       "    </tr>\n",
       "    <tr>\n",
       "      <th>3</th>\n",
       "      <td>IT</td>\n",
       "      <td>David</td>\n",
       "      <td>80000</td>\n",
       "      <td>8000</td>\n",
       "      <td>75000.0</td>\n",
       "      <td>80000</td>\n",
       "    </tr>\n",
       "    <tr>\n",
       "      <th>4</th>\n",
       "      <td>IT</td>\n",
       "      <td>Eva</td>\n",
       "      <td>75000</td>\n",
       "      <td>7500</td>\n",
       "      <td>75000.0</td>\n",
       "      <td>80000</td>\n",
       "    </tr>\n",
       "    <tr>\n",
       "      <th>5</th>\n",
       "      <td>Finance</td>\n",
       "      <td>Frank</td>\n",
       "      <td>40000</td>\n",
       "      <td>3000</td>\n",
       "      <td>41000.0</td>\n",
       "      <td>42000</td>\n",
       "    </tr>\n",
       "    <tr>\n",
       "      <th>6</th>\n",
       "      <td>Finance</td>\n",
       "      <td>Grace</td>\n",
       "      <td>42000</td>\n",
       "      <td>3500</td>\n",
       "      <td>41000.0</td>\n",
       "      <td>42000</td>\n",
       "    </tr>\n",
       "  </tbody>\n",
       "</table>\n",
       "</div>"
      ],
      "text/plain": [
       "  Department Employee  Salary  Bonus  AvgDeptSalary  MaxDep_sal\n",
       "0         HR    Alice   50000   5000        55000.0       60000\n",
       "1         HR      Bob   60000   6000        55000.0       60000\n",
       "2         IT  Charlie   70000   7000        75000.0       80000\n",
       "3         IT    David   80000   8000        75000.0       80000\n",
       "4         IT      Eva   75000   7500        75000.0       80000\n",
       "5    Finance    Frank   40000   3000        41000.0       42000\n",
       "6    Finance    Grace   42000   3500        41000.0       42000"
      ]
     },
     "execution_count": 65,
     "metadata": {},
     "output_type": "execute_result"
    }
   ],
   "source": [
    "df"
   ]
  },
  {
   "cell_type": "markdown",
   "id": "4d484abc",
   "metadata": {},
   "source": [
    "## ✅ Step 8: Using .filter() to Drop Groups\n",
    "Example: Only keep departments with total salary > 100000"
   ]
  },
  {
   "cell_type": "code",
   "execution_count": 67,
   "id": "da9de8ad",
   "metadata": {},
   "outputs": [],
   "source": [
    "df_filtered = df.groupby('Department').filter(lambda x: x['Salary'].sum() > 100000)"
   ]
  },
  {
   "cell_type": "code",
   "execution_count": 68,
   "id": "e2cfab41",
   "metadata": {},
   "outputs": [
    {
     "data": {
      "text/html": [
       "<div>\n",
       "<style scoped>\n",
       "    .dataframe tbody tr th:only-of-type {\n",
       "        vertical-align: middle;\n",
       "    }\n",
       "\n",
       "    .dataframe tbody tr th {\n",
       "        vertical-align: top;\n",
       "    }\n",
       "\n",
       "    .dataframe thead th {\n",
       "        text-align: right;\n",
       "    }\n",
       "</style>\n",
       "<table border=\"1\" class=\"dataframe\">\n",
       "  <thead>\n",
       "    <tr style=\"text-align: right;\">\n",
       "      <th></th>\n",
       "      <th>Department</th>\n",
       "      <th>Employee</th>\n",
       "      <th>Salary</th>\n",
       "      <th>Bonus</th>\n",
       "      <th>AvgDeptSalary</th>\n",
       "      <th>MaxDep_sal</th>\n",
       "    </tr>\n",
       "  </thead>\n",
       "  <tbody>\n",
       "    <tr>\n",
       "      <th>0</th>\n",
       "      <td>HR</td>\n",
       "      <td>Alice</td>\n",
       "      <td>50000</td>\n",
       "      <td>5000</td>\n",
       "      <td>55000.0</td>\n",
       "      <td>60000</td>\n",
       "    </tr>\n",
       "    <tr>\n",
       "      <th>1</th>\n",
       "      <td>HR</td>\n",
       "      <td>Bob</td>\n",
       "      <td>60000</td>\n",
       "      <td>6000</td>\n",
       "      <td>55000.0</td>\n",
       "      <td>60000</td>\n",
       "    </tr>\n",
       "    <tr>\n",
       "      <th>2</th>\n",
       "      <td>IT</td>\n",
       "      <td>Charlie</td>\n",
       "      <td>70000</td>\n",
       "      <td>7000</td>\n",
       "      <td>75000.0</td>\n",
       "      <td>80000</td>\n",
       "    </tr>\n",
       "    <tr>\n",
       "      <th>3</th>\n",
       "      <td>IT</td>\n",
       "      <td>David</td>\n",
       "      <td>80000</td>\n",
       "      <td>8000</td>\n",
       "      <td>75000.0</td>\n",
       "      <td>80000</td>\n",
       "    </tr>\n",
       "    <tr>\n",
       "      <th>4</th>\n",
       "      <td>IT</td>\n",
       "      <td>Eva</td>\n",
       "      <td>75000</td>\n",
       "      <td>7500</td>\n",
       "      <td>75000.0</td>\n",
       "      <td>80000</td>\n",
       "    </tr>\n",
       "  </tbody>\n",
       "</table>\n",
       "</div>"
      ],
      "text/plain": [
       "  Department Employee  Salary  Bonus  AvgDeptSalary  MaxDep_sal\n",
       "0         HR    Alice   50000   5000        55000.0       60000\n",
       "1         HR      Bob   60000   6000        55000.0       60000\n",
       "2         IT  Charlie   70000   7000        75000.0       80000\n",
       "3         IT    David   80000   8000        75000.0       80000\n",
       "4         IT      Eva   75000   7500        75000.0       80000"
      ]
     },
     "execution_count": 68,
     "metadata": {},
     "output_type": "execute_result"
    }
   ],
   "source": [
    "df_filtered"
   ]
  },
  {
   "cell_type": "code",
   "execution_count": 69,
   "id": "f278c783",
   "metadata": {},
   "outputs": [],
   "source": [
    "df['salary_sum']=df.groupby('Department')['Salary'].transform(sum)"
   ]
  },
  {
   "cell_type": "code",
   "execution_count": 70,
   "id": "f53e3e33",
   "metadata": {},
   "outputs": [
    {
     "data": {
      "text/html": [
       "<div>\n",
       "<style scoped>\n",
       "    .dataframe tbody tr th:only-of-type {\n",
       "        vertical-align: middle;\n",
       "    }\n",
       "\n",
       "    .dataframe tbody tr th {\n",
       "        vertical-align: top;\n",
       "    }\n",
       "\n",
       "    .dataframe thead th {\n",
       "        text-align: right;\n",
       "    }\n",
       "</style>\n",
       "<table border=\"1\" class=\"dataframe\">\n",
       "  <thead>\n",
       "    <tr style=\"text-align: right;\">\n",
       "      <th></th>\n",
       "      <th>Department</th>\n",
       "      <th>Employee</th>\n",
       "      <th>Salary</th>\n",
       "      <th>Bonus</th>\n",
       "      <th>AvgDeptSalary</th>\n",
       "      <th>MaxDep_sal</th>\n",
       "      <th>salary_sum</th>\n",
       "    </tr>\n",
       "  </thead>\n",
       "  <tbody>\n",
       "    <tr>\n",
       "      <th>0</th>\n",
       "      <td>HR</td>\n",
       "      <td>Alice</td>\n",
       "      <td>50000</td>\n",
       "      <td>5000</td>\n",
       "      <td>55000.0</td>\n",
       "      <td>60000</td>\n",
       "      <td>110000</td>\n",
       "    </tr>\n",
       "    <tr>\n",
       "      <th>1</th>\n",
       "      <td>HR</td>\n",
       "      <td>Bob</td>\n",
       "      <td>60000</td>\n",
       "      <td>6000</td>\n",
       "      <td>55000.0</td>\n",
       "      <td>60000</td>\n",
       "      <td>110000</td>\n",
       "    </tr>\n",
       "    <tr>\n",
       "      <th>2</th>\n",
       "      <td>IT</td>\n",
       "      <td>Charlie</td>\n",
       "      <td>70000</td>\n",
       "      <td>7000</td>\n",
       "      <td>75000.0</td>\n",
       "      <td>80000</td>\n",
       "      <td>225000</td>\n",
       "    </tr>\n",
       "    <tr>\n",
       "      <th>3</th>\n",
       "      <td>IT</td>\n",
       "      <td>David</td>\n",
       "      <td>80000</td>\n",
       "      <td>8000</td>\n",
       "      <td>75000.0</td>\n",
       "      <td>80000</td>\n",
       "      <td>225000</td>\n",
       "    </tr>\n",
       "    <tr>\n",
       "      <th>4</th>\n",
       "      <td>IT</td>\n",
       "      <td>Eva</td>\n",
       "      <td>75000</td>\n",
       "      <td>7500</td>\n",
       "      <td>75000.0</td>\n",
       "      <td>80000</td>\n",
       "      <td>225000</td>\n",
       "    </tr>\n",
       "    <tr>\n",
       "      <th>5</th>\n",
       "      <td>Finance</td>\n",
       "      <td>Frank</td>\n",
       "      <td>40000</td>\n",
       "      <td>3000</td>\n",
       "      <td>41000.0</td>\n",
       "      <td>42000</td>\n",
       "      <td>82000</td>\n",
       "    </tr>\n",
       "    <tr>\n",
       "      <th>6</th>\n",
       "      <td>Finance</td>\n",
       "      <td>Grace</td>\n",
       "      <td>42000</td>\n",
       "      <td>3500</td>\n",
       "      <td>41000.0</td>\n",
       "      <td>42000</td>\n",
       "      <td>82000</td>\n",
       "    </tr>\n",
       "  </tbody>\n",
       "</table>\n",
       "</div>"
      ],
      "text/plain": [
       "  Department Employee  Salary  Bonus  AvgDeptSalary  MaxDep_sal  salary_sum\n",
       "0         HR    Alice   50000   5000        55000.0       60000      110000\n",
       "1         HR      Bob   60000   6000        55000.0       60000      110000\n",
       "2         IT  Charlie   70000   7000        75000.0       80000      225000\n",
       "3         IT    David   80000   8000        75000.0       80000      225000\n",
       "4         IT      Eva   75000   7500        75000.0       80000      225000\n",
       "5    Finance    Frank   40000   3000        41000.0       42000       82000\n",
       "6    Finance    Grace   42000   3500        41000.0       42000       82000"
      ]
     },
     "execution_count": 70,
     "metadata": {},
     "output_type": "execute_result"
    }
   ],
   "source": [
    "df"
   ]
  },
  {
   "cell_type": "code",
   "execution_count": 74,
   "id": "d86b1272",
   "metadata": {},
   "outputs": [],
   "source": [
    "sal_filt=df.groupby('Department').filter(lambda x:x['Salary'].mean() >70000)"
   ]
  },
  {
   "cell_type": "code",
   "execution_count": 75,
   "id": "07e5c5de",
   "metadata": {},
   "outputs": [
    {
     "data": {
      "text/html": [
       "<div>\n",
       "<style scoped>\n",
       "    .dataframe tbody tr th:only-of-type {\n",
       "        vertical-align: middle;\n",
       "    }\n",
       "\n",
       "    .dataframe tbody tr th {\n",
       "        vertical-align: top;\n",
       "    }\n",
       "\n",
       "    .dataframe thead th {\n",
       "        text-align: right;\n",
       "    }\n",
       "</style>\n",
       "<table border=\"1\" class=\"dataframe\">\n",
       "  <thead>\n",
       "    <tr style=\"text-align: right;\">\n",
       "      <th></th>\n",
       "      <th>Department</th>\n",
       "      <th>Employee</th>\n",
       "      <th>Salary</th>\n",
       "      <th>Bonus</th>\n",
       "      <th>AvgDeptSalary</th>\n",
       "      <th>MaxDep_sal</th>\n",
       "      <th>salary_sum</th>\n",
       "    </tr>\n",
       "  </thead>\n",
       "  <tbody>\n",
       "    <tr>\n",
       "      <th>2</th>\n",
       "      <td>IT</td>\n",
       "      <td>Charlie</td>\n",
       "      <td>70000</td>\n",
       "      <td>7000</td>\n",
       "      <td>75000.0</td>\n",
       "      <td>80000</td>\n",
       "      <td>225000</td>\n",
       "    </tr>\n",
       "    <tr>\n",
       "      <th>3</th>\n",
       "      <td>IT</td>\n",
       "      <td>David</td>\n",
       "      <td>80000</td>\n",
       "      <td>8000</td>\n",
       "      <td>75000.0</td>\n",
       "      <td>80000</td>\n",
       "      <td>225000</td>\n",
       "    </tr>\n",
       "    <tr>\n",
       "      <th>4</th>\n",
       "      <td>IT</td>\n",
       "      <td>Eva</td>\n",
       "      <td>75000</td>\n",
       "      <td>7500</td>\n",
       "      <td>75000.0</td>\n",
       "      <td>80000</td>\n",
       "      <td>225000</td>\n",
       "    </tr>\n",
       "  </tbody>\n",
       "</table>\n",
       "</div>"
      ],
      "text/plain": [
       "  Department Employee  Salary  Bonus  AvgDeptSalary  MaxDep_sal  salary_sum\n",
       "2         IT  Charlie   70000   7000        75000.0       80000      225000\n",
       "3         IT    David   80000   8000        75000.0       80000      225000\n",
       "4         IT      Eva   75000   7500        75000.0       80000      225000"
      ]
     },
     "execution_count": 75,
     "metadata": {},
     "output_type": "execute_result"
    }
   ],
   "source": [
    "sal_filt"
   ]
  },
  {
   "cell_type": "markdown",
   "id": "7fbf5af6",
   "metadata": {},
   "source": [
    "## ✅ Step 9: Using .apply() for Custom Logic"
   ]
  },
  {
   "cell_type": "code",
   "execution_count": 76,
   "id": "f6a84f95",
   "metadata": {},
   "outputs": [
    {
     "data": {
      "text/html": [
       "<div>\n",
       "<style scoped>\n",
       "    .dataframe tbody tr th:only-of-type {\n",
       "        vertical-align: middle;\n",
       "    }\n",
       "\n",
       "    .dataframe tbody tr th {\n",
       "        vertical-align: top;\n",
       "    }\n",
       "\n",
       "    .dataframe thead th {\n",
       "        text-align: right;\n",
       "    }\n",
       "</style>\n",
       "<table border=\"1\" class=\"dataframe\">\n",
       "  <thead>\n",
       "    <tr style=\"text-align: right;\">\n",
       "      <th></th>\n",
       "      <th></th>\n",
       "      <th>Department</th>\n",
       "      <th>Employee</th>\n",
       "      <th>Salary</th>\n",
       "      <th>Bonus</th>\n",
       "      <th>AvgDeptSalary</th>\n",
       "      <th>MaxDep_sal</th>\n",
       "      <th>salary_sum</th>\n",
       "    </tr>\n",
       "    <tr>\n",
       "      <th>Department</th>\n",
       "      <th></th>\n",
       "      <th></th>\n",
       "      <th></th>\n",
       "      <th></th>\n",
       "      <th></th>\n",
       "      <th></th>\n",
       "      <th></th>\n",
       "      <th></th>\n",
       "    </tr>\n",
       "  </thead>\n",
       "  <tbody>\n",
       "    <tr>\n",
       "      <th>Finance</th>\n",
       "      <th>6</th>\n",
       "      <td>Finance</td>\n",
       "      <td>Grace</td>\n",
       "      <td>42000</td>\n",
       "      <td>3500</td>\n",
       "      <td>41000.0</td>\n",
       "      <td>42000</td>\n",
       "      <td>82000</td>\n",
       "    </tr>\n",
       "    <tr>\n",
       "      <th>HR</th>\n",
       "      <th>1</th>\n",
       "      <td>HR</td>\n",
       "      <td>Bob</td>\n",
       "      <td>60000</td>\n",
       "      <td>6000</td>\n",
       "      <td>55000.0</td>\n",
       "      <td>60000</td>\n",
       "      <td>110000</td>\n",
       "    </tr>\n",
       "    <tr>\n",
       "      <th>IT</th>\n",
       "      <th>3</th>\n",
       "      <td>IT</td>\n",
       "      <td>David</td>\n",
       "      <td>80000</td>\n",
       "      <td>8000</td>\n",
       "      <td>75000.0</td>\n",
       "      <td>80000</td>\n",
       "      <td>225000</td>\n",
       "    </tr>\n",
       "  </tbody>\n",
       "</table>\n",
       "</div>"
      ],
      "text/plain": [
       "             Department Employee  Salary  Bonus  AvgDeptSalary  MaxDep_sal  \\\n",
       "Department                                                                   \n",
       "Finance    6    Finance    Grace   42000   3500        41000.0       42000   \n",
       "HR         1         HR      Bob   60000   6000        55000.0       60000   \n",
       "IT         3         IT    David   80000   8000        75000.0       80000   \n",
       "\n",
       "              salary_sum  \n",
       "Department                \n",
       "Finance    6       82000  \n",
       "HR         1      110000  \n",
       "IT         3      225000  "
      ]
     },
     "execution_count": 76,
     "metadata": {},
     "output_type": "execute_result"
    }
   ],
   "source": [
    "def highlight_top_earner(group):\n",
    "    return group[group['Salary'] == group['Salary'].max()]\n",
    "\n",
    "df.groupby('Department').apply(highlight_top_earner)\n"
   ]
  },
  {
   "cell_type": "markdown",
   "id": "0a0c05fa",
   "metadata": {},
   "source": [
    "## ✅ Step 10: Named Aggregation (New Columns)"
   ]
  },
  {
   "cell_type": "code",
   "execution_count": 81,
   "id": "61eaa1d0",
   "metadata": {},
   "outputs": [
    {
     "data": {
      "text/html": [
       "<div>\n",
       "<style scoped>\n",
       "    .dataframe tbody tr th:only-of-type {\n",
       "        vertical-align: middle;\n",
       "    }\n",
       "\n",
       "    .dataframe tbody tr th {\n",
       "        vertical-align: top;\n",
       "    }\n",
       "\n",
       "    .dataframe thead th {\n",
       "        text-align: right;\n",
       "    }\n",
       "</style>\n",
       "<table border=\"1\" class=\"dataframe\">\n",
       "  <thead>\n",
       "    <tr style=\"text-align: right;\">\n",
       "      <th></th>\n",
       "      <th>avg_salary</th>\n",
       "      <th>total_bonus</th>\n",
       "    </tr>\n",
       "    <tr>\n",
       "      <th>Department</th>\n",
       "      <th></th>\n",
       "      <th></th>\n",
       "    </tr>\n",
       "  </thead>\n",
       "  <tbody>\n",
       "    <tr>\n",
       "      <th>Finance</th>\n",
       "      <td>41000.0</td>\n",
       "      <td>6500</td>\n",
       "    </tr>\n",
       "    <tr>\n",
       "      <th>HR</th>\n",
       "      <td>55000.0</td>\n",
       "      <td>11000</td>\n",
       "    </tr>\n",
       "    <tr>\n",
       "      <th>IT</th>\n",
       "      <td>75000.0</td>\n",
       "      <td>22500</td>\n",
       "    </tr>\n",
       "  </tbody>\n",
       "</table>\n",
       "</div>"
      ],
      "text/plain": [
       "            avg_salary  total_bonus\n",
       "Department                         \n",
       "Finance        41000.0         6500\n",
       "HR             55000.0        11000\n",
       "IT             75000.0        22500"
      ]
     },
     "execution_count": 81,
     "metadata": {},
     "output_type": "execute_result"
    }
   ],
   "source": [
    "df.groupby('Department').agg(avg_salary=('Salary', 'mean'),total_bonus=('Bonus', 'sum'),)\n"
   ]
  },
  {
   "cell_type": "markdown",
   "id": "9f356c1d",
   "metadata": {},
   "source": [
    "## ✅ Step 11: Sorting Groups"
   ]
  },
  {
   "cell_type": "code",
   "execution_count": 83,
   "id": "530bcbd4",
   "metadata": {},
   "outputs": [
    {
     "data": {
      "text/plain": [
       "Department\n",
       "Finance    41000.0\n",
       "HR         55000.0\n",
       "IT         75000.0\n",
       "Name: Salary, dtype: float64"
      ]
     },
     "execution_count": 83,
     "metadata": {},
     "output_type": "execute_result"
    }
   ],
   "source": [
    "df.groupby('Department')['Salary'].mean().sort_values()\n"
   ]
  },
  {
   "cell_type": "code",
   "execution_count": 84,
   "id": "45459598",
   "metadata": {},
   "outputs": [
    {
     "data": {
      "text/plain": [
       "Department\n",
       "IT         75000.0\n",
       "HR         55000.0\n",
       "Finance    41000.0\n",
       "Name: Salary, dtype: float64"
      ]
     },
     "execution_count": 84,
     "metadata": {},
     "output_type": "execute_result"
    }
   ],
   "source": [
    "df.groupby('Department')['Salary'].mean().sort_values(ascending=False)\n"
   ]
  },
  {
   "cell_type": "markdown",
   "id": "85a6a745",
   "metadata": {},
   "source": [
    "## ✅ Step 12: Get Group Keys"
   ]
  },
  {
   "cell_type": "code",
   "execution_count": 87,
   "id": "849f2746",
   "metadata": {},
   "outputs": [
    {
     "name": "stdout",
     "output_type": "stream",
     "text": [
      "\n",
      "Department: Finance\n",
      "  Department Employee  Salary  Bonus  AvgDeptSalary  MaxDep_sal  salary_sum\n",
      "5    Finance    Frank   40000   3000        41000.0       42000       82000\n",
      "6    Finance    Grace   42000   3500        41000.0       42000       82000\n",
      "\n",
      "Department: HR\n",
      "  Department Employee  Salary  Bonus  AvgDeptSalary  MaxDep_sal  salary_sum\n",
      "0         HR    Alice   50000   5000        55000.0       60000      110000\n",
      "1         HR      Bob   60000   6000        55000.0       60000      110000\n",
      "\n",
      "Department: IT\n",
      "  Department Employee  Salary  Bonus  AvgDeptSalary  MaxDep_sal  salary_sum\n",
      "2         IT  Charlie   70000   7000        75000.0       80000      225000\n",
      "3         IT    David   80000   8000        75000.0       80000      225000\n",
      "4         IT      Eva   75000   7500        75000.0       80000      225000\n"
     ]
    }
   ],
   "source": [
    "for dept, group_df in df.groupby('Department'):\n",
    "    print(f\"\\nDepartment: {dept}\")\n",
    "    print(group_df)\n"
   ]
  },
  {
   "cell_type": "markdown",
   "id": "4353c54a",
   "metadata": {},
   "source": [
    "## ✅ Step 13: Convert GroupBy to Dict of DataFrames"
   ]
  },
  {
   "cell_type": "code",
   "execution_count": 88,
   "id": "9e7f569b",
   "metadata": {},
   "outputs": [
    {
     "data": {
      "text/html": [
       "<div>\n",
       "<style scoped>\n",
       "    .dataframe tbody tr th:only-of-type {\n",
       "        vertical-align: middle;\n",
       "    }\n",
       "\n",
       "    .dataframe tbody tr th {\n",
       "        vertical-align: top;\n",
       "    }\n",
       "\n",
       "    .dataframe thead th {\n",
       "        text-align: right;\n",
       "    }\n",
       "</style>\n",
       "<table border=\"1\" class=\"dataframe\">\n",
       "  <thead>\n",
       "    <tr style=\"text-align: right;\">\n",
       "      <th></th>\n",
       "      <th>Department</th>\n",
       "      <th>Employee</th>\n",
       "      <th>Salary</th>\n",
       "      <th>Bonus</th>\n",
       "      <th>AvgDeptSalary</th>\n",
       "      <th>MaxDep_sal</th>\n",
       "      <th>salary_sum</th>\n",
       "    </tr>\n",
       "  </thead>\n",
       "  <tbody>\n",
       "    <tr>\n",
       "      <th>0</th>\n",
       "      <td>HR</td>\n",
       "      <td>Alice</td>\n",
       "      <td>50000</td>\n",
       "      <td>5000</td>\n",
       "      <td>55000.0</td>\n",
       "      <td>60000</td>\n",
       "      <td>110000</td>\n",
       "    </tr>\n",
       "    <tr>\n",
       "      <th>1</th>\n",
       "      <td>HR</td>\n",
       "      <td>Bob</td>\n",
       "      <td>60000</td>\n",
       "      <td>6000</td>\n",
       "      <td>55000.0</td>\n",
       "      <td>60000</td>\n",
       "      <td>110000</td>\n",
       "    </tr>\n",
       "  </tbody>\n",
       "</table>\n",
       "</div>"
      ],
      "text/plain": [
       "  Department Employee  Salary  Bonus  AvgDeptSalary  MaxDep_sal  salary_sum\n",
       "0         HR    Alice   50000   5000        55000.0       60000      110000\n",
       "1         HR      Bob   60000   6000        55000.0       60000      110000"
      ]
     },
     "execution_count": 88,
     "metadata": {},
     "output_type": "execute_result"
    }
   ],
   "source": [
    "group_dict = dict(tuple(df.groupby('Department')))\n",
    "group_dict['HR']  # This will give you the HR group as a DataFrame"
   ]
  },
  {
   "cell_type": "code",
   "execution_count": 89,
   "id": "8ff1053a",
   "metadata": {},
   "outputs": [
    {
     "data": {
      "text/html": [
       "<div>\n",
       "<style scoped>\n",
       "    .dataframe tbody tr th:only-of-type {\n",
       "        vertical-align: middle;\n",
       "    }\n",
       "\n",
       "    .dataframe tbody tr th {\n",
       "        vertical-align: top;\n",
       "    }\n",
       "\n",
       "    .dataframe thead th {\n",
       "        text-align: right;\n",
       "    }\n",
       "</style>\n",
       "<table border=\"1\" class=\"dataframe\">\n",
       "  <thead>\n",
       "    <tr style=\"text-align: right;\">\n",
       "      <th></th>\n",
       "      <th>Department</th>\n",
       "      <th>Employee</th>\n",
       "      <th>Salary</th>\n",
       "      <th>Bonus</th>\n",
       "      <th>AvgDeptSalary</th>\n",
       "      <th>MaxDep_sal</th>\n",
       "      <th>salary_sum</th>\n",
       "    </tr>\n",
       "  </thead>\n",
       "  <tbody>\n",
       "    <tr>\n",
       "      <th>2</th>\n",
       "      <td>IT</td>\n",
       "      <td>Charlie</td>\n",
       "      <td>70000</td>\n",
       "      <td>7000</td>\n",
       "      <td>75000.0</td>\n",
       "      <td>80000</td>\n",
       "      <td>225000</td>\n",
       "    </tr>\n",
       "    <tr>\n",
       "      <th>3</th>\n",
       "      <td>IT</td>\n",
       "      <td>David</td>\n",
       "      <td>80000</td>\n",
       "      <td>8000</td>\n",
       "      <td>75000.0</td>\n",
       "      <td>80000</td>\n",
       "      <td>225000</td>\n",
       "    </tr>\n",
       "    <tr>\n",
       "      <th>4</th>\n",
       "      <td>IT</td>\n",
       "      <td>Eva</td>\n",
       "      <td>75000</td>\n",
       "      <td>7500</td>\n",
       "      <td>75000.0</td>\n",
       "      <td>80000</td>\n",
       "      <td>225000</td>\n",
       "    </tr>\n",
       "  </tbody>\n",
       "</table>\n",
       "</div>"
      ],
      "text/plain": [
       "  Department Employee  Salary  Bonus  AvgDeptSalary  MaxDep_sal  salary_sum\n",
       "2         IT  Charlie   70000   7000        75000.0       80000      225000\n",
       "3         IT    David   80000   8000        75000.0       80000      225000\n",
       "4         IT      Eva   75000   7500        75000.0       80000      225000"
      ]
     },
     "execution_count": 89,
     "metadata": {},
     "output_type": "execute_result"
    }
   ],
   "source": [
    "group_dict['IT']"
   ]
  },
  {
   "cell_type": "markdown",
   "id": "61088d76",
   "metadata": {},
   "source": [
    "## ✅ Step 14: Cumulative Operations within Group"
   ]
  },
  {
   "cell_type": "code",
   "execution_count": 90,
   "id": "e1f4b0a5",
   "metadata": {},
   "outputs": [],
   "source": [
    "df['CumulativeBonus'] = df.groupby('Department')['Bonus'].cumsum()"
   ]
  },
  {
   "cell_type": "code",
   "execution_count": 91,
   "id": "f824576c",
   "metadata": {},
   "outputs": [
    {
     "data": {
      "text/html": [
       "<div>\n",
       "<style scoped>\n",
       "    .dataframe tbody tr th:only-of-type {\n",
       "        vertical-align: middle;\n",
       "    }\n",
       "\n",
       "    .dataframe tbody tr th {\n",
       "        vertical-align: top;\n",
       "    }\n",
       "\n",
       "    .dataframe thead th {\n",
       "        text-align: right;\n",
       "    }\n",
       "</style>\n",
       "<table border=\"1\" class=\"dataframe\">\n",
       "  <thead>\n",
       "    <tr style=\"text-align: right;\">\n",
       "      <th></th>\n",
       "      <th>Department</th>\n",
       "      <th>Employee</th>\n",
       "      <th>Salary</th>\n",
       "      <th>Bonus</th>\n",
       "      <th>AvgDeptSalary</th>\n",
       "      <th>MaxDep_sal</th>\n",
       "      <th>salary_sum</th>\n",
       "      <th>CumulativeBonus</th>\n",
       "    </tr>\n",
       "  </thead>\n",
       "  <tbody>\n",
       "    <tr>\n",
       "      <th>0</th>\n",
       "      <td>HR</td>\n",
       "      <td>Alice</td>\n",
       "      <td>50000</td>\n",
       "      <td>5000</td>\n",
       "      <td>55000.0</td>\n",
       "      <td>60000</td>\n",
       "      <td>110000</td>\n",
       "      <td>5000</td>\n",
       "    </tr>\n",
       "    <tr>\n",
       "      <th>1</th>\n",
       "      <td>HR</td>\n",
       "      <td>Bob</td>\n",
       "      <td>60000</td>\n",
       "      <td>6000</td>\n",
       "      <td>55000.0</td>\n",
       "      <td>60000</td>\n",
       "      <td>110000</td>\n",
       "      <td>11000</td>\n",
       "    </tr>\n",
       "    <tr>\n",
       "      <th>2</th>\n",
       "      <td>IT</td>\n",
       "      <td>Charlie</td>\n",
       "      <td>70000</td>\n",
       "      <td>7000</td>\n",
       "      <td>75000.0</td>\n",
       "      <td>80000</td>\n",
       "      <td>225000</td>\n",
       "      <td>7000</td>\n",
       "    </tr>\n",
       "    <tr>\n",
       "      <th>3</th>\n",
       "      <td>IT</td>\n",
       "      <td>David</td>\n",
       "      <td>80000</td>\n",
       "      <td>8000</td>\n",
       "      <td>75000.0</td>\n",
       "      <td>80000</td>\n",
       "      <td>225000</td>\n",
       "      <td>15000</td>\n",
       "    </tr>\n",
       "    <tr>\n",
       "      <th>4</th>\n",
       "      <td>IT</td>\n",
       "      <td>Eva</td>\n",
       "      <td>75000</td>\n",
       "      <td>7500</td>\n",
       "      <td>75000.0</td>\n",
       "      <td>80000</td>\n",
       "      <td>225000</td>\n",
       "      <td>22500</td>\n",
       "    </tr>\n",
       "    <tr>\n",
       "      <th>5</th>\n",
       "      <td>Finance</td>\n",
       "      <td>Frank</td>\n",
       "      <td>40000</td>\n",
       "      <td>3000</td>\n",
       "      <td>41000.0</td>\n",
       "      <td>42000</td>\n",
       "      <td>82000</td>\n",
       "      <td>3000</td>\n",
       "    </tr>\n",
       "    <tr>\n",
       "      <th>6</th>\n",
       "      <td>Finance</td>\n",
       "      <td>Grace</td>\n",
       "      <td>42000</td>\n",
       "      <td>3500</td>\n",
       "      <td>41000.0</td>\n",
       "      <td>42000</td>\n",
       "      <td>82000</td>\n",
       "      <td>6500</td>\n",
       "    </tr>\n",
       "  </tbody>\n",
       "</table>\n",
       "</div>"
      ],
      "text/plain": [
       "  Department Employee  Salary  Bonus  AvgDeptSalary  MaxDep_sal  salary_sum  \\\n",
       "0         HR    Alice   50000   5000        55000.0       60000      110000   \n",
       "1         HR      Bob   60000   6000        55000.0       60000      110000   \n",
       "2         IT  Charlie   70000   7000        75000.0       80000      225000   \n",
       "3         IT    David   80000   8000        75000.0       80000      225000   \n",
       "4         IT      Eva   75000   7500        75000.0       80000      225000   \n",
       "5    Finance    Frank   40000   3000        41000.0       42000       82000   \n",
       "6    Finance    Grace   42000   3500        41000.0       42000       82000   \n",
       "\n",
       "   CumulativeBonus  \n",
       "0             5000  \n",
       "1            11000  \n",
       "2             7000  \n",
       "3            15000  \n",
       "4            22500  \n",
       "5             3000  \n",
       "6             6500  "
      ]
     },
     "execution_count": 91,
     "metadata": {},
     "output_type": "execute_result"
    }
   ],
   "source": [
    "df"
   ]
  },
  {
   "cell_type": "markdown",
   "id": "dfa3397e",
   "metadata": {},
   "source": [
    "## ✅ Step 15: Count Size of Each Group"
   ]
  },
  {
   "cell_type": "code",
   "execution_count": 92,
   "id": "4634ca85",
   "metadata": {},
   "outputs": [
    {
     "data": {
      "text/plain": [
       "Department\n",
       "Finance    2\n",
       "HR         2\n",
       "IT         3\n",
       "dtype: int64"
      ]
     },
     "execution_count": 92,
     "metadata": {},
     "output_type": "execute_result"
    }
   ],
   "source": [
    "df.groupby('Department').size()\n"
   ]
  },
  {
   "cell_type": "markdown",
   "id": "5602c737",
   "metadata": {},
   "source": [
    "## or"
   ]
  },
  {
   "cell_type": "code",
   "execution_count": 94,
   "id": "fad8c9ed",
   "metadata": {},
   "outputs": [
    {
     "data": {
      "text/html": [
       "<div>\n",
       "<style scoped>\n",
       "    .dataframe tbody tr th:only-of-type {\n",
       "        vertical-align: middle;\n",
       "    }\n",
       "\n",
       "    .dataframe tbody tr th {\n",
       "        vertical-align: top;\n",
       "    }\n",
       "\n",
       "    .dataframe thead th {\n",
       "        text-align: right;\n",
       "    }\n",
       "</style>\n",
       "<table border=\"1\" class=\"dataframe\">\n",
       "  <thead>\n",
       "    <tr style=\"text-align: right;\">\n",
       "      <th></th>\n",
       "      <th>Employee</th>\n",
       "      <th>Salary</th>\n",
       "      <th>Bonus</th>\n",
       "      <th>AvgDeptSalary</th>\n",
       "      <th>MaxDep_sal</th>\n",
       "      <th>salary_sum</th>\n",
       "      <th>CumulativeBonus</th>\n",
       "    </tr>\n",
       "    <tr>\n",
       "      <th>Department</th>\n",
       "      <th></th>\n",
       "      <th></th>\n",
       "      <th></th>\n",
       "      <th></th>\n",
       "      <th></th>\n",
       "      <th></th>\n",
       "      <th></th>\n",
       "    </tr>\n",
       "  </thead>\n",
       "  <tbody>\n",
       "    <tr>\n",
       "      <th>Finance</th>\n",
       "      <td>2</td>\n",
       "      <td>2</td>\n",
       "      <td>2</td>\n",
       "      <td>2</td>\n",
       "      <td>2</td>\n",
       "      <td>2</td>\n",
       "      <td>2</td>\n",
       "    </tr>\n",
       "    <tr>\n",
       "      <th>HR</th>\n",
       "      <td>2</td>\n",
       "      <td>2</td>\n",
       "      <td>2</td>\n",
       "      <td>2</td>\n",
       "      <td>2</td>\n",
       "      <td>2</td>\n",
       "      <td>2</td>\n",
       "    </tr>\n",
       "    <tr>\n",
       "      <th>IT</th>\n",
       "      <td>3</td>\n",
       "      <td>3</td>\n",
       "      <td>3</td>\n",
       "      <td>3</td>\n",
       "      <td>3</td>\n",
       "      <td>3</td>\n",
       "      <td>3</td>\n",
       "    </tr>\n",
       "  </tbody>\n",
       "</table>\n",
       "</div>"
      ],
      "text/plain": [
       "            Employee  Salary  Bonus  AvgDeptSalary  MaxDep_sal  salary_sum  \\\n",
       "Department                                                                   \n",
       "Finance            2       2      2              2           2           2   \n",
       "HR                 2       2      2              2           2           2   \n",
       "IT                 3       3      3              3           3           3   \n",
       "\n",
       "            CumulativeBonus  \n",
       "Department                   \n",
       "Finance                   2  \n",
       "HR                        2  \n",
       "IT                        3  "
      ]
     },
     "execution_count": 94,
     "metadata": {},
     "output_type": "execute_result"
    }
   ],
   "source": [
    "df.groupby('Department').count()"
   ]
  },
  {
   "cell_type": "markdown",
   "id": "c9150c19",
   "metadata": {},
   "source": [
    "## Let’s dive into hands-on Pandas groupby() practice problems. These will help you master every important concept with realistic scenarios. I’ll provide the question,"
   ]
  },
  {
   "cell_type": "markdown",
   "id": "8149b789",
   "metadata": {},
   "source": [
    "## 🧪 Setup Data"
   ]
  },
  {
   "cell_type": "code",
   "execution_count": 95,
   "id": "ab5ea5b4",
   "metadata": {},
   "outputs": [],
   "source": [
    "import pandas as pd\n",
    "\n",
    "data = {\n",
    "    'Department': ['HR', 'HR', 'IT', 'IT', 'IT', 'Finance', 'Finance'],\n",
    "    'Employee': ['Alice', 'Bob', 'Charlie', 'David', 'Eva', 'Frank', 'Grace'],\n",
    "    'Salary': [50000, 60000, 70000, 80000, 75000, 40000, 42000],\n",
    "    'Bonus': [5000, 6000, 7000, 8000, 7500, 3000, 3500],\n",
    "    'Gender': ['F', 'M', 'M', 'M', 'F', 'M', 'F']\n",
    "}\n",
    "\n",
    "df = pd.DataFrame(data)"
   ]
  },
  {
   "cell_type": "markdown",
   "id": "038c77b4",
   "metadata": {},
   "source": [
    "## ✅ Problem 1: Average Salary by Department\n",
    "❓ Question: What is the average salary in each department?\n",
    "\n",
    "💡 Hint: Use groupby() and .mean() on the Salary column."
   ]
  },
  {
   "cell_type": "markdown",
   "id": "e5da4e38",
   "metadata": {},
   "source": [
    "## ✅ Problem 2: Total Bonus by Gender\n",
    "❓ Question: How much total bonus is given to males and females?\n",
    "\n",
    "💡 Hint: Group by Gender and sum the Bonus."
   ]
  },
  {
   "cell_type": "markdown",
   "id": "bd8e33fc",
   "metadata": {},
   "source": [
    "## ✅ Problem 3: Maximum Bonus in Each Department\n",
    "❓ Question: What is the maximum bonus given in each department?\n",
    "\n",
    "💡 Hint: Group by Department and use .max()."
   ]
  },
  {
   "cell_type": "markdown",
   "id": "72c9c43c",
   "metadata": {},
   "source": [
    "## ✅ Problem 4: Count of Employees per Department\n",
    "❓ Question: How many employees are there in each department?\n",
    "\n",
    "💡 Hint: Use .size() or .count()."
   ]
  },
  {
   "cell_type": "markdown",
   "id": "621a94aa",
   "metadata": {},
   "source": [
    "## ✅ Problem 5: Get Employees with Highest Salary in Each Department\n",
    "❓ Question: Find the employee(s) with the highest salary in each department.\n",
    "\n",
    "💡 Hint: Use .apply() with a custom function like group['Salary'].max()."
   ]
  },
  {
   "cell_type": "markdown",
   "id": "45bb577a",
   "metadata": {},
   "source": [
    "## ✅ Problem 6: Add Column for Average Salary in Dept (All Rows)\n",
    "❓ Question: Add a column AvgDeptSalary showing each employee's department's average salary.\n",
    "\n",
    "💡 Hint: Use .transform('mean')."
   ]
  },
  {
   "cell_type": "markdown",
   "id": "fc7217be",
   "metadata": {},
   "source": [
    "## ✅ Problem 7: Filter Only High-Earning Departments\n",
    "❓ Question: Keep only those departments where the total salary is more than 150000.\n",
    "\n",
    "💡 Hint: Use .filter() with group['Salary'].sum()."
   ]
  },
  {
   "cell_type": "markdown",
   "id": "4ddfe808",
   "metadata": {},
   "source": [
    "## ✅ Problem 8: Multi-Aggregation Summary\n",
    "❓ Question: For each department, show:\n",
    "\n",
    "Average salary\n",
    "\n",
    "Total bonus\n",
    "\n",
    "Number of employees\n",
    "\n",
    "💡 Hint: Use .agg() with multiple functions and columns."
   ]
  },
  {
   "cell_type": "markdown",
   "id": "601ad7ad",
   "metadata": {},
   "source": [
    "## ✅ Problem 9: Sort Departments by Average Bonus (Descending)\n",
    "❓ Question: Sort the departments by average bonus in descending order.\n",
    "\n",
    "💡 Hint: Use .groupby()['Bonus'].mean().sort_values()."
   ]
  },
  {
   "cell_type": "markdown",
   "id": "576f2369",
   "metadata": {},
   "source": [
    "## ✅ Problem 10: Cumulative Bonus by Department\n",
    "❓ Question: Add a column CumulativeBonus showing running total of bonus for each department.\n",
    "\n",
    "💡 Hint: Use .groupby()['Bonus'].cumsum()."
   ]
  },
  {
   "cell_type": "markdown",
   "id": "de0fee21",
   "metadata": {},
   "source": [
    "## 🧠 Bonus Challenge\n",
    "## ✅ Problem 11: Create a dictionary of DataFrames (one per department)\n",
    "❓ Question: Convert the grouped departments into a dictionary where keys are department names and values are the DataFrame for each.\n",
    "\n",
    "💡 Hint: Use dict(tuple(df.groupby('Department')))"
   ]
  },
  {
   "cell_type": "code",
   "execution_count": null,
   "id": "b733f55c",
   "metadata": {},
   "outputs": [],
   "source": []
  }
 ],
 "metadata": {
  "kernelspec": {
   "display_name": "Python CV_Shortlist_env",
   "language": "python",
   "name": "cv_shortlist_env"
  },
  "language_info": {
   "codemirror_mode": {
    "name": "ipython",
    "version": 3
   },
   "file_extension": ".py",
   "mimetype": "text/x-python",
   "name": "python",
   "nbconvert_exporter": "python",
   "pygments_lexer": "ipython3",
   "version": "3.10.0"
  }
 },
 "nbformat": 4,
 "nbformat_minor": 5
}
