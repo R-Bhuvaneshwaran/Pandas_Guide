{
 "cells": [
  {
   "cell_type": "markdown",
   "id": "6ac2ff42",
   "metadata": {},
   "source": [
    "## 🧠 What is a Time Series?\n",
    "    A time series is data collected in time order, typically with:\n",
    "\n",
    "    Timestamps as index (e.g. '2023-01-01')\n",
    "\n",
    "    Observations like sales, temperature, stock prices, etc.\n",
    "\n",
    "    Pandas is great for time series because it understands dates/times natively."
   ]
  },
  {
   "cell_type": "markdown",
   "id": "3832bd3e",
   "metadata": {},
   "source": [
    "## 🛠️ STEP 1: Creating a Time Series"
   ]
  },
  {
   "cell_type": "code",
   "execution_count": 2,
   "id": "dee82a6b",
   "metadata": {
    "scrolled": true
   },
   "outputs": [
    {
     "data": {
      "text/plain": [
       "2023-01-01    0\n",
       "2023-01-02    1\n",
       "2023-01-03    2\n",
       "2023-01-04    3\n",
       "2023-01-05    4\n",
       "2023-01-06    5\n",
       "2023-01-07    6\n",
       "2023-01-08    7\n",
       "2023-01-09    8\n",
       "2023-01-10    9\n",
       "Freq: D, dtype: int64"
      ]
     },
     "execution_count": 2,
     "metadata": {},
     "output_type": "execute_result"
    }
   ],
   "source": [
    "import pandas as pd\n",
    "\n",
    "# Example: Date range\n",
    "dates = pd.date_range(start='2023-01-01', periods=10, freq='D')  # 10 daily dates\n",
    "values = range(10)\n",
    "\n",
    "ts = pd.Series(values, index=dates)\n",
    "ts\n"
   ]
  },
  {
   "cell_type": "markdown",
   "id": "3e9a915a",
   "metadata": {},
   "source": [
    "📌 pd.date_range() → creates a datetime index"
   ]
  },
  {
   "cell_type": "markdown",
   "id": "4369b22b",
   "metadata": {},
   "source": [
    "## 🛠️ STEP 2: Converting a Column to Datetime"
   ]
  },
  {
   "cell_type": "code",
   "execution_count": 3,
   "id": "1729ab60",
   "metadata": {},
   "outputs": [
    {
     "data": {
      "text/html": [
       "<div>\n",
       "<style scoped>\n",
       "    .dataframe tbody tr th:only-of-type {\n",
       "        vertical-align: middle;\n",
       "    }\n",
       "\n",
       "    .dataframe tbody tr th {\n",
       "        vertical-align: top;\n",
       "    }\n",
       "\n",
       "    .dataframe thead th {\n",
       "        text-align: right;\n",
       "    }\n",
       "</style>\n",
       "<table border=\"1\" class=\"dataframe\">\n",
       "  <thead>\n",
       "    <tr style=\"text-align: right;\">\n",
       "      <th></th>\n",
       "      <th>Value</th>\n",
       "    </tr>\n",
       "    <tr>\n",
       "      <th>Date</th>\n",
       "      <th></th>\n",
       "    </tr>\n",
       "  </thead>\n",
       "  <tbody>\n",
       "    <tr>\n",
       "      <th>2023-01-01</th>\n",
       "      <td>100</td>\n",
       "    </tr>\n",
       "    <tr>\n",
       "      <th>2023-01-02</th>\n",
       "      <td>200</td>\n",
       "    </tr>\n",
       "    <tr>\n",
       "      <th>2023-01-03</th>\n",
       "      <td>150</td>\n",
       "    </tr>\n",
       "  </tbody>\n",
       "</table>\n",
       "</div>"
      ],
      "text/plain": [
       "            Value\n",
       "Date             \n",
       "2023-01-01    100\n",
       "2023-01-02    200\n",
       "2023-01-03    150"
      ]
     },
     "execution_count": 3,
     "metadata": {},
     "output_type": "execute_result"
    }
   ],
   "source": [
    "df = pd.DataFrame({\n",
    "    'Date': ['2023-01-01', '2023-01-02', '2023-01-03'],\n",
    "    'Value': [100, 200, 150]\n",
    "})\n",
    "\n",
    "df['Date'] = pd.to_datetime(df['Date'])  # Converts string to datetime\n",
    "df.set_index('Date', inplace=True)\n",
    "df"
   ]
  },
  {
   "cell_type": "markdown",
   "id": "06ea4dc0",
   "metadata": {},
   "source": [
    "## 📅 Time-Based Indexing\n",
    "Once datetime is the index, you can:"
   ]
  },
  {
   "cell_type": "code",
   "execution_count": 5,
   "id": "a1fa8bb3",
   "metadata": {},
   "outputs": [
    {
     "data": {
      "text/plain": [
       "2"
      ]
     },
     "execution_count": 5,
     "metadata": {},
     "output_type": "execute_result"
    }
   ],
   "source": [
    "ts['2023-01-03']         # single day"
   ]
  },
  {
   "cell_type": "code",
   "execution_count": 6,
   "id": "af8c16f9",
   "metadata": {},
   "outputs": [
    {
     "data": {
      "text/plain": [
       "2023-01-01    0\n",
       "2023-01-02    1\n",
       "2023-01-03    2\n",
       "2023-01-04    3\n",
       "2023-01-05    4\n",
       "2023-01-06    5\n",
       "2023-01-07    6\n",
       "2023-01-08    7\n",
       "2023-01-09    8\n",
       "2023-01-10    9\n",
       "Freq: D, dtype: int64"
      ]
     },
     "execution_count": 6,
     "metadata": {},
     "output_type": "execute_result"
    }
   ],
   "source": [
    "ts['2023-01']            # entire month"
   ]
  },
  {
   "cell_type": "code",
   "execution_count": 7,
   "id": "387e46b6",
   "metadata": {},
   "outputs": [
    {
     "data": {
      "text/plain": [
       "2023-01-01    0\n",
       "2023-01-02    1\n",
       "2023-01-03    2\n",
       "2023-01-04    3\n",
       "2023-01-05    4\n",
       "2023-01-06    5\n",
       "2023-01-07    6\n",
       "2023-01-08    7\n",
       "2023-01-09    8\n",
       "2023-01-10    9\n",
       "Freq: D, dtype: int64"
      ]
     },
     "execution_count": 7,
     "metadata": {},
     "output_type": "execute_result"
    }
   ],
   "source": [
    "ts['2023']               # entire year"
   ]
  },
  {
   "cell_type": "markdown",
   "id": "d24cb37d",
   "metadata": {},
   "source": [
    "Also slicing works:"
   ]
  },
  {
   "cell_type": "code",
   "execution_count": 8,
   "id": "353a12d7",
   "metadata": {},
   "outputs": [
    {
     "data": {
      "text/plain": [
       "2023-01-03    2\n",
       "2023-01-04    3\n",
       "2023-01-05    4\n",
       "2023-01-06    5\n",
       "Freq: D, dtype: int64"
      ]
     },
     "execution_count": 8,
     "metadata": {},
     "output_type": "execute_result"
    }
   ],
   "source": [
    "ts['2023-01-03':'2023-01-06']"
   ]
  },
  {
   "cell_type": "markdown",
   "id": "be4e076b",
   "metadata": {},
   "source": [
    "## 🔁 STEP 3: Resampling\n",
    "You can resample to change frequency (e.g. daily to monthly, weekly, etc.)."
   ]
  },
  {
   "cell_type": "code",
   "execution_count": 9,
   "id": "6ca83aa4",
   "metadata": {},
   "outputs": [
    {
     "data": {
      "text/plain": [
       "2023-01-01    1.0\n",
       "2023-01-04    4.0\n",
       "2023-01-07    7.0\n",
       "2023-01-10    9.0\n",
       "Freq: 3D, dtype: float64"
      ]
     },
     "execution_count": 9,
     "metadata": {},
     "output_type": "execute_result"
    }
   ],
   "source": [
    "ts.resample('3D').mean()   # every 3 days average\n"
   ]
  },
  {
   "cell_type": "code",
   "execution_count": 10,
   "id": "be4e188b",
   "metadata": {},
   "outputs": [
    {
     "data": {
      "text/plain": [
       "2023-01-01     0\n",
       "2023-01-08    28\n",
       "2023-01-15    17\n",
       "Freq: W-SUN, dtype: int64"
      ]
     },
     "execution_count": 10,
     "metadata": {},
     "output_type": "execute_result"
    }
   ],
   "source": [
    "ts.resample('W').sum()     # weekly sum"
   ]
  },
  {
   "cell_type": "code",
   "execution_count": 12,
   "id": "35de4298",
   "metadata": {},
   "outputs": [
    {
     "data": {
      "text/plain": [
       "2023-01-31    45\n",
       "Freq: M, dtype: int64"
      ]
     },
     "execution_count": 12,
     "metadata": {},
     "output_type": "execute_result"
    }
   ],
   "source": [
    "ts.resample('M').sum()     # monthly sum\n"
   ]
  },
  {
   "cell_type": "markdown",
   "id": "6e627ef7",
   "metadata": {},
   "source": [
    "Common codes:\n",
    "\n",
    "'D' = daily\n",
    "\n",
    "'W' = weekly\n",
    "\n",
    "'M' = month-end\n",
    "\n",
    "'MS' = month-start\n",
    "\n",
    "'Y' = year-end\n",
    "\n",
    "'H' = hourly\n",
    "\n",
    "'T' = minutes"
   ]
  },
  {
   "cell_type": "markdown",
   "id": "8d4dfccd",
   "metadata": {},
   "source": [
    "## 🔁 STEP 4: Rolling Windows (Moving Average)\n",
    "    Used for smoothing noisy data."
   ]
  },
  {
   "cell_type": "code",
   "execution_count": 13,
   "id": "21b16027",
   "metadata": {},
   "outputs": [
    {
     "data": {
      "text/plain": [
       "2023-01-01    NaN\n",
       "2023-01-02    NaN\n",
       "2023-01-03    1.0\n",
       "2023-01-04    2.0\n",
       "2023-01-05    3.0\n",
       "2023-01-06    4.0\n",
       "2023-01-07    5.0\n",
       "2023-01-08    6.0\n",
       "2023-01-09    7.0\n",
       "2023-01-10    8.0\n",
       "Freq: D, dtype: float64"
      ]
     },
     "execution_count": 13,
     "metadata": {},
     "output_type": "execute_result"
    }
   ],
   "source": [
    "ts.rolling(window=3).mean()   # 3-day moving average"
   ]
  },
  {
   "cell_type": "markdown",
   "id": "98cc57d6",
   "metadata": {},
   "source": [
    "## 🔁 STEP 5: Shifting / Lagging\n",
    "    Used for comparing time-shifted versions of the data (e.g., yesterday's value)."
   ]
  },
  {
   "cell_type": "code",
   "execution_count": 14,
   "id": "d73684a4",
   "metadata": {},
   "outputs": [
    {
     "data": {
      "text/plain": [
       "2023-01-01    NaN\n",
       "2023-01-02    0.0\n",
       "2023-01-03    1.0\n",
       "2023-01-04    2.0\n",
       "2023-01-05    3.0\n",
       "2023-01-06    4.0\n",
       "2023-01-07    5.0\n",
       "2023-01-08    6.0\n",
       "2023-01-09    7.0\n",
       "2023-01-10    8.0\n",
       "Freq: D, dtype: float64"
      ]
     },
     "execution_count": 14,
     "metadata": {},
     "output_type": "execute_result"
    }
   ],
   "source": [
    "ts.shift(1)           # lag by 1 day"
   ]
  },
  {
   "cell_type": "code",
   "execution_count": 15,
   "id": "09c93133",
   "metadata": {},
   "outputs": [
    {
     "data": {
      "text/plain": [
       "2023-01-01    NaN\n",
       "2023-01-02    1.0\n",
       "2023-01-03    1.0\n",
       "2023-01-04    1.0\n",
       "2023-01-05    1.0\n",
       "2023-01-06    1.0\n",
       "2023-01-07    1.0\n",
       "2023-01-08    1.0\n",
       "2023-01-09    1.0\n",
       "2023-01-10    1.0\n",
       "Freq: D, dtype: float64"
      ]
     },
     "execution_count": 15,
     "metadata": {},
     "output_type": "execute_result"
    }
   ],
   "source": [
    "ts.diff()             # difference from previous day"
   ]
  },
  {
   "cell_type": "code",
   "execution_count": 16,
   "id": "d4432eee",
   "metadata": {},
   "outputs": [
    {
     "data": {
      "text/plain": [
       "2023-01-01         NaN\n",
       "2023-01-02         inf\n",
       "2023-01-03    1.000000\n",
       "2023-01-04    0.500000\n",
       "2023-01-05    0.333333\n",
       "2023-01-06    0.250000\n",
       "2023-01-07    0.200000\n",
       "2023-01-08    0.166667\n",
       "2023-01-09    0.142857\n",
       "2023-01-10    0.125000\n",
       "Freq: D, dtype: float64"
      ]
     },
     "execution_count": 16,
     "metadata": {},
     "output_type": "execute_result"
    }
   ],
   "source": [
    "ts.pct_change()       # percentage change"
   ]
  },
  {
   "cell_type": "markdown",
   "id": "6ef87c81",
   "metadata": {},
   "source": [
    "## 🧪 Example: Sales Over Time"
   ]
  },
  {
   "cell_type": "code",
   "execution_count": 18,
   "id": "547121c4",
   "metadata": {},
   "outputs": [
    {
     "data": {
      "text/plain": [
       "2023-01-01           NaN\n",
       "2023-01-02           NaN\n",
       "2023-01-03    116.666667\n",
       "2023-01-04    113.333333\n",
       "2023-01-05    123.333333\n",
       "2023-01-06    136.666667\n",
       "2023-01-07    166.666667\n",
       "Freq: D, dtype: float64"
      ]
     },
     "execution_count": 18,
     "metadata": {},
     "output_type": "execute_result"
    }
   ],
   "source": [
    "sales = pd.Series([100, 120, 130, 90, 150, 170, 180],\n",
    "                  index=pd.date_range('2023-01-01', periods=7, freq='D'))\n",
    "\n",
    "# Moving average\n",
    "sales.rolling(3).mean()\n",
    "\n"
   ]
  },
  {
   "cell_type": "code",
   "execution_count": 19,
   "id": "d88524d1",
   "metadata": {},
   "outputs": [
    {
     "data": {
      "text/plain": [
       "2023-01-01    100\n",
       "2023-01-08    840\n",
       "Freq: W-SUN, dtype: int64"
      ]
     },
     "execution_count": 19,
     "metadata": {},
     "output_type": "execute_result"
    }
   ],
   "source": [
    "# Weekly resample\n",
    "sales.resample('W').sum()"
   ]
  },
  {
   "cell_type": "markdown",
   "id": "261f486f",
   "metadata": {},
   "source": [
    "## 🧩 Time Series Plotting"
   ]
  },
  {
   "cell_type": "code",
   "execution_count": 20,
   "id": "198be0a4",
   "metadata": {},
   "outputs": [
    {
     "data": {
      "image/png": "[encoded data removed]",
      "text/plain": [
       "<Figure size 640x480 with 1 Axes>"
      ]
     },
     "metadata": {},
     "output_type": "display_data"
    }
   ],
   "source": [
    "import matplotlib.pyplot as plt\n",
    "\n",
    "sales.plot(title=\"Sales Over Time\")\n",
    "plt.xlabel(\"Date\")\n",
    "plt.ylabel(\"Sales\")\n",
    "plt.grid(True)\n",
    "plt.show()\n"
   ]
  },
  {
   "cell_type": "code",
   "execution_count": null,
   "id": "b102163e",
   "metadata": {},
   "outputs": [],
   "source": []
  }
 ],
 "metadata": {
  "kernelspec": {
   "display_name": "Python 3 (ipykernel)",
   "language": "python",
   "name": "python3"
  },
  "language_info": {
   "codemirror_mode": {
    "name": "ipython",
    "version": 3
   },
   "file_extension": ".py",
   "mimetype": "text/x-python",
   "name": "python",
   "nbconvert_exporter": "python",
   "pygments_lexer": "ipython3",
   "version": "3.10.9"
  }
 },
 "nbformat": 4,
 "nbformat_minor": 5
}
